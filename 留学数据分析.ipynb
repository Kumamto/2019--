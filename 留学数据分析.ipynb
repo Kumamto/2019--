{
 "cells": [
  {
   "cell_type": "markdown",
   "metadata": {},
   "source": [
    "# 爬取留学数据整理分析"
   ]
  },
  {
   "cell_type": "markdown",
   "metadata": {},
   "source": [
    "### 0.对两份数据中对应的id进行合并 并加入时间序列索引以便划定时间范围"
   ]
  },
  {
   "cell_type": "markdown",
   "metadata": {},
   "source": [
    "入学时间：2018-2020\n",
    "若将获取的url数 即发帖人数暂定为申请人数\n",
    "总获取申请结果数量为总申请数\n",
    "\n",
    "澳大利亚\\新加坡\\英国\\香港\\美国\n",
    "分别为：420\\910\\1715\\4646\\4165申请数"
   ]
  },
  {
   "cell_type": "code",
   "execution_count": 1,
   "metadata": {},
   "outputs": [],
   "source": [
    "'''\n",
    "定义汇总函数，分别读取对应地区的info信息和offer信息，并应用merge函数，以id为参数进行连接\n",
    "由于2020年度申请刚刚开始，因此选取前两年的同时间段进行比较，因此添加时间序列索引，以便筛选时间\n",
    "'''\n",
    "import pandas as pd\n",
    "import numpy as np\n",
    "import matplotlib.pyplot as plt\n",
    "def esdf(info0,offer0):\n",
    "    '''创建对应汇总dataframe'''\n",
    "    info=pd.DataFrame(pd.read_excel('{}.xlsx'.format(info0))).replace(' ',np.nan)\n",
    "    offer=pd.DataFrame(pd.read_excel('{}.xlsx'.format(offer0))).replace(' ',np.nan)\n",
    "    df=pd.merge(info,offer,on='id')\n",
    "    \n",
    "    tag=['id','TOEFL','IELTS','GRE','GMAT','本科学校档次','本科专业','本科GPA及排名',\n",
    "             '研究生学校档次','研究生专业','研究生GPA及排名','其他说明',\n",
    "             'OFFER标签数','申请学校','申请学位','申请专业','申请结果',\n",
    "             '入学年度','入学时间','通知时间']\n",
    "    #OFFER标签数-1即为收到的第几封offer\n",
    "    df.columns=tag\n",
    "    time=df['通知时间'].tolist()\n",
    "    index=pd.DatetimeIndex(time)\n",
    "    df=df.set_index(index)\n",
    "    return df\n",
    "\n",
    "df1=esdf('个人信息汇总/Ausinfo汇总','offer汇总/Ausoffer汇总')#澳洲\n",
    "df2=esdf('个人信息汇总/Singinfo汇总','offer汇总/Singoffer汇总')#新加坡\n",
    "df3=esdf('个人信息汇总/UKinfo汇总','offer汇总/UKoffer汇总')#英国\n",
    "df4=esdf('个人信息汇总/HKinfo汇总','offer汇总/HKoffer汇总')#香港\n",
    "df5=esdf('个人信息汇总/USAinfo汇总','offer汇总/USAoffer汇总')#美国"
   ]
  },
  {
   "cell_type": "markdown",
   "metadata": {},
   "source": [
    "### 一、三年五个地区申请总量对比"
   ]
  },
  {
   "cell_type": "markdown",
   "metadata": {},
   "source": [
    "#### 1.1  18\\19\\20届各地区的申请总数比较"
   ]
  },
  {
   "cell_type": "code",
   "execution_count": 7,
   "metadata": {},
   "outputs": [
    {
     "data": {
      "image/png": "[encoded data removed]",
      "text/plain": [
       "<Figure size 576x576 with 1 Axes>"
      ]
     },
     "metadata": {
      "needs_background": "light"
     },
     "output_type": "display_data"
    }
   ],
   "source": [
    "#2018-2020年度总申请量比较 因为2020年度申请尚未结束 故截取同期时间进行概览比较\n",
    "import seaborn as sns\n",
    "plt.rcParams['font.sans-serif']=['SimHei'] #用来正常显示中文标签\n",
    "plt.rcParams['axes.unicode_minus']=False #用来正常显示负号\n",
    "\n",
    "name=['Aus','Sing','UK','HK','USA']\n",
    "\n",
    "df18=df1.loc['2017-9-1':'2017-12-15']\n",
    "df19=df1.loc['2018-9-1':'2018-12-15']\n",
    "df10=df1.loc['2019-9-1':'2019-12-15']\n",
    "\n",
    "df28=df2.loc['2017-9-1':'2017-12-15']\n",
    "df29=df2.loc['2018-9-1':'2018-12-15']\n",
    "df20=df2.loc['2019-9-1':'2019-12-15']\n",
    "\n",
    "df38=df3.loc['2017-9-1':'2017-12-15']\n",
    "df39=df3.loc['2018-9-1':'2018-12-15']\n",
    "df30=df3.loc['2019-9-1':'2019-12-15']\n",
    "\n",
    "df48=df4.loc['2017-9-1':'2017-12-15']\n",
    "df49=df4.loc['2018-9-1':'2018-12-15']\n",
    "df40=df4.loc['2019-9-1':'2019-12-15']\n",
    "\n",
    "df58=df5.loc['2017-9-1':'2017-12-15']\n",
    "df59=df5.loc['2018-9-1':'2018-12-15']\n",
    "df50=df5.loc['2019-9-1':'2019-12-15']\n",
    "\n",
    "#2018\n",
    "list1=[df18.shape[0],df28.shape[0],df38.shape[0],df48.shape[0],df58.shape[0]]\n",
    "#2019:\n",
    "list2=[df19.shape[0],df29.shape[0],df39.shape[0],df49.shape[0],df59.shape[0]]\n",
    "#2020:\n",
    "list3=[df10.shape[0],df20.shape[0],df30.shape[0],df40.shape[0],df50.shape[0]]\n",
    "\n",
    "zonshu=pd.DataFrame()\n",
    "zonshu[\"year\"]=[2018]*5+[2019]*5+[2020]*5\n",
    "zonshu[\"total\"]=list1+list2+list3\n",
    "zonshu[\"country\"]=name*3\n",
    "\n",
    "plt.rcParams['figure.figsize'] = [8,8]\n",
    "plt.figure()\n",
    "sns.barplot(x='year',y='total',hue='country',data=zonshu)\n",
    "plt.title('申请总量对比')\n",
    "plt.show()"
   ]
  },
  {
   "cell_type": "markdown",
   "metadata": {},
   "source": [
    "#### 1.2 通过方差分析检验对比18\\19\\20届申请量是否有显著性差异"
   ]
  },
  {
   "cell_type": "markdown",
   "metadata": {},
   "source": [
    "选择年份作为检验变量，通过方差分析检验18、19、20三年的申请量是否有显著性差异。\n",
    "方差分析的原假设为：三年的申请量是没有显著性差异的"
   ]
  },
  {
   "cell_type": "code",
   "execution_count": 8,
   "metadata": {},
   "outputs": [
    {
     "data": {
      "text/plain": [
       "F_onewayResult(statistic=2.550866729817626, pvalue=0.11935666507790887)"
      ]
     },
     "execution_count": 8,
     "metadata": {},
     "output_type": "execute_result"
    }
   ],
   "source": [
    "import scipy.stats as ss\n",
    "args = [list1,list2,list3]\n",
    "ss.f_oneway(*args)"
   ]
  },
  {
   "cell_type": "markdown",
   "metadata": {},
   "source": [
    "由上述检验结果可以得出，在显著性水平为0.1的条件下，检验的P值大于0.1，因此在统计意义上应该接受原假设，即三年的申请总量是没有显著性差异的"
   ]
  },
  {
   "cell_type": "markdown",
   "metadata": {},
   "source": [
    "#### 1.3 通过方差分析检验对比五个地区的申请量是否有显著性差异"
   ]
  },
  {
   "cell_type": "markdown",
   "metadata": {},
   "source": [
    "选择地区作为检验变量，通过方差分析检验五个地区的申请量是否有显著性差异。\n",
    "方差分析的原假设为：五个地区的申请量是没有显著性差异的"
   ]
  },
  {
   "cell_type": "code",
   "execution_count": 9,
   "metadata": {},
   "outputs": [
    {
     "data": {
      "text/plain": [
       "F_onewayResult(statistic=2.3419168193207827, pvalue=0.12543925902658948)"
      ]
     },
     "execution_count": 9,
     "metadata": {},
     "output_type": "execute_result"
    }
   ],
   "source": [
    "d1 = zonshu[zonshu[\"country\"]==\"Aus\"]['total']\n",
    "d2 = zonshu[zonshu[\"country\"]==\"Sing\"]['total']\n",
    "d3 = zonshu[zonshu[\"country\"]==\"UK\"]['total']\n",
    "d4 = zonshu[zonshu[\"country\"]==\"HK\"]['total']\n",
    "d5 = zonshu[zonshu[\"country\"]==\"USA\"]['total']\n",
    "args = [d1,d2,d3,d4,d5]\n",
    "ss.f_oneway(*args)"
   ]
  },
  {
   "cell_type": "markdown",
   "metadata": {},
   "source": [
    "由上述检验结果可以得出，在显著性水平为0.1的条件下，检验的P值大于0.1，因此在统计意义上应该接受原假设，即五个地区的申请量是没有显著性差异的"
   ]
  },
  {
   "cell_type": "markdown",
   "metadata": {},
   "source": [
    "### 二、三年五个地区失败申请量与失败申请率对比"
   ]
  },
  {
   "cell_type": "markdown",
   "metadata": {},
   "source": [
    "#### 2.1  18\\19\\20届各地区的失败申请量与失败申请率对比"
   ]
  },
  {
   "cell_type": "code",
   "execution_count": 11,
   "metadata": {},
   "outputs": [],
   "source": [
    "df18o=df18[df18['申请结果'].isin(['被拒','Waitinglist'])]\n",
    "df19o=df19[df19['申请结果'].isin(['被拒','Waitinglist'])]\n",
    "df10o=df10[df10['申请结果'].isin(['被拒','Waitinglist'])]\n",
    "\n",
    "df28o=df28[df28['申请结果'].isin(['被拒','Waitinglist'])]\n",
    "df29o=df29[df29['申请结果'].isin(['被拒','Waitinglist'])]\n",
    "df20o=df20[df20['申请结果'].isin(['被拒','Waitinglist'])]\n",
    "\n",
    "df38o=df38[df38['申请结果'].isin(['被拒','Waitinglist'])]\n",
    "df39o=df39[df39['申请结果'].isin(['被拒','Waitinglist'])]\n",
    "df30o=df30[df30['申请结果'].isin(['被拒','Waitinglist'])]\n",
    "\n",
    "df48o=df48[df48['申请结果'].isin(['被拒','Waitinglist'])]\n",
    "df49o=df49[df49['申请结果'].isin(['被拒','Waitinglist'])]\n",
    "df40o=df40[df40['申请结果'].isin(['被拒','Waitinglist'])]\n",
    "\n",
    "df58o=df58[df58['申请结果'].isin(['被拒','Waitinglist'])]\n",
    "df59o=df59[df59['申请结果'].isin(['被拒','Waitinglist'])]\n",
    "df50o=df50[df50['申请结果'].isin(['被拒','Waitinglist'])]\n",
    "\n",
    "#2018\n",
    "list1=[df18o.shape[0],df28o.shape[0],df38o.shape[0],df48o.shape[0],df58o.shape[0]]\n",
    "#2019:\n",
    "list2=[df19o.shape[0],df29o.shape[0],df39o.shape[0],df49o.shape[0],df59o.shape[0]]\n",
    "#2020:\n",
    "list3=[df10o.shape[0],df20o.shape[0],df30o.shape[0],df40o.shape[0],df50o.shape[0]]\n",
    "\n",
    "shibaizonshu=pd.DataFrame()\n",
    "shibaizonshu[\"year\"]=[2018]*5+[2019]*5+[2020]*5\n",
    "shibaizonshu[\"total\"]=list1+list2+list3\n",
    "shibaizonshu[\"country\"]=name*3\n",
    "\n",
    "shibaizonshu[\"rate\"]=shibaizonshu[\"total\"].div(zonshu[\"total\"])"
   ]
  },
  {
   "cell_type": "markdown",
   "metadata": {},
   "source": [
    "1）18\\19\\20届各地区的失败申请量"
   ]
  },
  {
   "cell_type": "code",
   "execution_count": 12,
   "metadata": {},
   "outputs": [
    {
     "data": {
      "image/png": "[encoded data removed]",
      "text/plain": [
       "<Figure size 576x576 with 1 Axes>"
      ]
     },
     "metadata": {
      "needs_background": "light"
     },
     "output_type": "display_data"
    }
   ],
   "source": [
    "plt.rcParams['figure.figsize'] = [8,8]\n",
    "plt.figure()\n",
    "sns.barplot(x='year',y='total',hue='country',data=shibaizonshu)\n",
    "plt.title('申请失败数量对比')\n",
    "plt.show()"
   ]
  },
  {
   "cell_type": "markdown",
   "metadata": {},
   "source": [
    "2）18\\19\\20届各地区的失败申请率"
   ]
  },
  {
   "cell_type": "code",
   "execution_count": 13,
   "metadata": {},
   "outputs": [
    {
     "data": {
      "image/png": "[encoded data removed]",
      "text/plain": [
       "<Figure size 576x576 with 1 Axes>"
      ]
     },
     "metadata": {
      "needs_background": "light"
     },
     "output_type": "display_data"
    }
   ],
   "source": [
    "plt.rcParams['figure.figsize'] = [8,8]\n",
    "plt.figure()\n",
    "sns.barplot(x='year',y='rate',hue='country',data=shibaizonshu)\n",
    "plt.title('申请失败率对比')\n",
    "plt.show()"
   ]
  },
  {
   "cell_type": "markdown",
   "metadata": {},
   "source": [
    "#### 2.2  通过方差分析检验对比18\\19\\20届的失败申请量/失败申请率是否有显著性差异"
   ]
  },
  {
   "cell_type": "markdown",
   "metadata": {},
   "source": [
    "1）对于失败申请量"
   ]
  },
  {
   "cell_type": "markdown",
   "metadata": {},
   "source": [
    "选择年份作为检验变量，通过方差分析检验18、19、20三年的申请量是否有显著性差异。 方差分析的原假设为：三年的申请量是没有显著性差异的"
   ]
  },
  {
   "cell_type": "code",
   "execution_count": 14,
   "metadata": {},
   "outputs": [
    {
     "data": {
      "text/plain": [
       "F_onewayResult(statistic=0.6150029767811075, pvalue=0.556835914703187)"
      ]
     },
     "execution_count": 14,
     "metadata": {},
     "output_type": "execute_result"
    }
   ],
   "source": [
    "import scipy.stats as ss\n",
    "args = [list1,list2,list3]\n",
    "ss.f_oneway(*args)"
   ]
  },
  {
   "cell_type": "markdown",
   "metadata": {},
   "source": [
    "由上述检验结果可以得出，在显著性水平为0.1的条件下，检验的P值大于0.1，因此在统计意义上应该接受原假设，即三年的申请量是没有显著性差异的"
   ]
  },
  {
   "cell_type": "markdown",
   "metadata": {},
   "source": [
    "2）对于失败申请率"
   ]
  },
  {
   "cell_type": "markdown",
   "metadata": {},
   "source": [
    "选择年份作为检验变量，通过方差分析检验18、19、20三年的申请失败率是否有显著性差异。 方差分析的原假设为：三年的申请失败率是没有显著性差异的"
   ]
  },
  {
   "cell_type": "code",
   "execution_count": 15,
   "metadata": {},
   "outputs": [
    {
     "data": {
      "text/plain": [
       "F_onewayResult(statistic=0.1413832055980905, pvalue=0.8695815569433636)"
      ]
     },
     "execution_count": 15,
     "metadata": {},
     "output_type": "execute_result"
    }
   ],
   "source": [
    "import scipy.stats as ss\n",
    "d1 = shibaizonshu[shibaizonshu[\"year\"]==2018]['rate']\n",
    "d2 = shibaizonshu[shibaizonshu[\"year\"]==2019]['rate']\n",
    "d3 = shibaizonshu[shibaizonshu[\"year\"]==2020]['rate']\n",
    "args = [d1,d2,d3]\n",
    "ss.f_oneway(*args)"
   ]
  },
  {
   "cell_type": "markdown",
   "metadata": {},
   "source": [
    "由上述检验结果可以得出，在显著性水平为0.1的条件下，检验的P值大于0.1，因此在统计意义上应该接受原假设，即三年的申请失败率是没有显著性差异的"
   ]
  },
  {
   "cell_type": "markdown",
   "metadata": {},
   "source": [
    "#### 2.3 通过方差分析检验对比五个地区的失败申请量/失败申请率是否有显著性差异"
   ]
  },
  {
   "cell_type": "markdown",
   "metadata": {},
   "source": [
    "1）对于失败申请量"
   ]
  },
  {
   "cell_type": "markdown",
   "metadata": {},
   "source": [
    "选择地区作为检验变量，通过方差分析检验五个地区的申请量是否有显著性差异。 方差分析的原假设为：五个地区的申请量是没有显著性差异的"
   ]
  },
  {
   "cell_type": "code",
   "execution_count": 16,
   "metadata": {},
   "outputs": [
    {
     "data": {
      "text/plain": [
       "F_onewayResult(statistic=5.176877015200367, pvalue=0.01601145608543465)"
      ]
     },
     "execution_count": 16,
     "metadata": {},
     "output_type": "execute_result"
    }
   ],
   "source": [
    "d1 = shibaizonshu[shibaizonshu[\"country\"]==\"Aus\"]['total']\n",
    "d2 = shibaizonshu[shibaizonshu[\"country\"]==\"Sing\"]['total']\n",
    "d3 = shibaizonshu[shibaizonshu[\"country\"]==\"UK\"]['total']\n",
    "d4 = shibaizonshu[shibaizonshu[\"country\"]==\"HK\"]['total']\n",
    "d5 = shibaizonshu[shibaizonshu[\"country\"]==\"USA\"]['total']\n",
    "args = [d1,d2,d3,d4,d5]\n",
    "ss.f_oneway(*args)"
   ]
  },
  {
   "cell_type": "markdown",
   "metadata": {},
   "source": [
    "由上述检验结果可以得出，在显著性水平为0.1的条件下，检验的P值小于0.1，因此在统计意义上应该拒绝原假设，即五个地区的申请量是有显著性差异的"
   ]
  },
  {
   "cell_type": "markdown",
   "metadata": {},
   "source": [
    "2）对于失败申请率"
   ]
  },
  {
   "cell_type": "markdown",
   "metadata": {},
   "source": [
    "选择地区作为检验变量，通过方差分析检验五个地区的申请失败率是否有显著性差异。 方差分析的原假设为：五个地区的申请失败率是没有显著性差异的"
   ]
  },
  {
   "cell_type": "code",
   "execution_count": 17,
   "metadata": {},
   "outputs": [
    {
     "data": {
      "text/plain": [
       "F_onewayResult(statistic=2.8983939049624183, pvalue=0.07847933934537353)"
      ]
     },
     "execution_count": 17,
     "metadata": {},
     "output_type": "execute_result"
    }
   ],
   "source": [
    "d1 = shibaizonshu[shibaizonshu[\"country\"]==\"Aus\"]['rate']\n",
    "d2 = shibaizonshu[shibaizonshu[\"country\"]==\"Sing\"]['rate']\n",
    "d3 = shibaizonshu[shibaizonshu[\"country\"]==\"UK\"]['rate']\n",
    "d4 = shibaizonshu[shibaizonshu[\"country\"]==\"HK\"]['rate']\n",
    "d5 = shibaizonshu[shibaizonshu[\"country\"]==\"USA\"]['rate']\n",
    "args = [d1,d2,d3,d4,d5]\n",
    "ss.f_oneway(*args)"
   ]
  },
  {
   "cell_type": "markdown",
   "metadata": {},
   "source": [
    "由上述检验结果可以得出，在显著性水平为0.1的条件下，检验的P值小于0.1，因此在统计意义上应该拒绝原假设，即五个地区的申请失败率是有显著性差异的"
   ]
  },
  {
   "cell_type": "markdown",
   "metadata": {},
   "source": [
    "### 三、三年五个地区申请人数对比"
   ]
  },
  {
   "cell_type": "markdown",
   "metadata": {},
   "source": [
    "#### 3.1 对应被拒名单，同一id去重体现申请人数"
   ]
  },
  {
   "cell_type": "code",
   "execution_count": 30,
   "metadata": {},
   "outputs": [
    {
     "data": {
      "image/png": "[encoded data removed]",
      "text/plain": [
       "<Figure size 576x576 with 1 Axes>"
      ]
     },
     "metadata": {
      "needs_background": "light"
     },
     "output_type": "display_data"
    }
   ],
   "source": [
    "df181=df18.drop_duplicates(['id'],keep='first')\n",
    "df191=df19.drop_duplicates(['id'],keep='first')\n",
    "df101=df10.drop_duplicates(['id'],keep='first')\n",
    "\n",
    "df281=df28.drop_duplicates(['id'],keep='first')\n",
    "df291=df29.drop_duplicates(['id'],keep='first')\n",
    "df201=df20.drop_duplicates(['id'],keep='first')\n",
    "\n",
    "df381=df38.drop_duplicates(['id'],keep='first')\n",
    "df391=df39.drop_duplicates(['id'],keep='first')\n",
    "df301=df30.drop_duplicates(['id'],keep='first')\n",
    "\n",
    "df481=df48.drop_duplicates(['id'],keep='first')\n",
    "df491=df49.drop_duplicates(['id'],keep='first')\n",
    "df401=df40.drop_duplicates(['id'],keep='first')\n",
    "\n",
    "df581=df58.drop_duplicates(['id'],keep='first')\n",
    "df591=df59.drop_duplicates(['id'],keep='first')\n",
    "df501=df50.drop_duplicates(['id'],keep='first')\n",
    "\n",
    "#2018\n",
    "list1=[df181.shape[0],df281.shape[0],df381.shape[0],df481.shape[0],df581.shape[0]]\n",
    "#2019:\n",
    "list2=[df191.shape[0],df291.shape[0],df391.shape[0],df491.shape[0],df591.shape[0]]\n",
    "#2020:\n",
    "list3=[df101.shape[0],df201.shape[0],df301.shape[0],df401.shape[0],df501.shape[0]]\n",
    "\n",
    "person=pd.DataFrame()\n",
    "person[\"year\"]=[2018]*5+[2019]*5+[2020]*5\n",
    "person[\"total\"]=list1+list2+list3\n",
    "person[\"country\"]=name*3\n",
    "\n",
    "plt.rcParams['figure.figsize'] = [8,8]\n",
    "plt.figure()\n",
    "sns.barplot(x='year',y='total',hue='country',data=person)\n",
    "plt.title('申请人数')\n",
    "plt.show()"
   ]
  },
  {
   "cell_type": "markdown",
   "metadata": {},
   "source": [
    "#### 3.2 通过方差分析检验对比18\\19\\20届申请人数是否有显著性差异"
   ]
  },
  {
   "cell_type": "markdown",
   "metadata": {},
   "source": [
    "选择年份作为检验变量，通过方差分析检验18、19、20三年的申请人数是否有显著性差异。 方差分析的原假设为：三年的申请人数是没有显著性差异的"
   ]
  },
  {
   "cell_type": "code",
   "execution_count": 31,
   "metadata": {},
   "outputs": [
    {
     "data": {
      "text/plain": [
       "F_onewayResult(statistic=3.1051264855816014, pvalue=0.08188259594580029)"
      ]
     },
     "execution_count": 31,
     "metadata": {},
     "output_type": "execute_result"
    }
   ],
   "source": [
    "import scipy.stats as ss\n",
    "args = [list1,list2,list3]\n",
    "ss.f_oneway(*args)"
   ]
  },
  {
   "cell_type": "markdown",
   "metadata": {},
   "source": [
    "由上述检验结果可以得出，在显著性水平为0.1的条件下，检验的P值小于0.1，因此在统计意义上应该拒绝原假设，即三年的申请人数是有显著性差异的"
   ]
  },
  {
   "cell_type": "markdown",
   "metadata": {},
   "source": [
    "#### 3.3 通过方差分析检验对比五个地区的申请人数是否有显著性差异"
   ]
  },
  {
   "cell_type": "markdown",
   "metadata": {},
   "source": [
    "选择地区作为检验变量，通过方差分析检验五个地区的申请人数是否有显著性差异。 方差分析的原假设为：五个地区的申请人数是没有显著性差异的"
   ]
  },
  {
   "cell_type": "code",
   "execution_count": 32,
   "metadata": {},
   "outputs": [
    {
     "data": {
      "text/plain": [
       "F_onewayResult(statistic=1.8159842060479736, pvalue=0.20239185434424392)"
      ]
     },
     "execution_count": 32,
     "metadata": {},
     "output_type": "execute_result"
    }
   ],
   "source": [
    "d1 = person[person[\"country\"]==\"Aus\"]['total']\n",
    "d2 = person[person[\"country\"]==\"Sing\"]['total']\n",
    "d3 = person[person[\"country\"]==\"UK\"]['total']\n",
    "d4 = person[person[\"country\"]==\"HK\"]['total']\n",
    "d5 = person[person[\"country\"]==\"USA\"]['total']\n",
    "args = [d1,d2,d3,d4,d5]\n",
    "ss.f_oneway(*args)"
   ]
  },
  {
   "cell_type": "markdown",
   "metadata": {},
   "source": [
    "由上述检验结果可以得出，在显著性水平为0.1的条件下，检验的P值大于0.1，因此在统计意义上应该接受原假设，即五个地区的申请人数是没有显著性差异的"
   ]
  },
  {
   "cell_type": "markdown",
   "metadata": {},
   "source": [
    "### 四、三年五个地区失败申请人数与失败申请率对比"
   ]
  },
  {
   "cell_type": "markdown",
   "metadata": {},
   "source": [
    "#### 4.1 18\\19\\20届各地区的失败申请人数与失败申请率占比"
   ]
  },
  {
   "cell_type": "code",
   "execution_count": 46,
   "metadata": {},
   "outputs": [],
   "source": [
    "list1=[]\n",
    "list2=[]\n",
    "list3=[]\n",
    "list1.append(pd.DataFrame(df181.groupby('申请结果').size()).iloc[3][0])\n",
    "list2.append(pd.DataFrame(df191.groupby('申请结果').size()).iloc[3][0])\n",
    "list3.append(0)\n",
    "\n",
    "list1.append(pd.DataFrame(df281.groupby('申请结果').size()).iloc[3][0])\n",
    "list2.append(pd.DataFrame(df291.groupby('申请结果').size()).iloc[3][0])\n",
    "list3.append(pd.DataFrame(df201.groupby('申请结果').size()).iloc[3][0])\n",
    "\n",
    "list1.append(pd.DataFrame(df381.groupby('申请结果').size()).iloc[3][0])\n",
    "list2.append(pd.DataFrame(df391.groupby('申请结果').size()).iloc[3][0])\n",
    "list3.append(pd.DataFrame(df301.groupby('申请结果').size()).iloc[3][0])\n",
    "\n",
    "list1.append(pd.DataFrame(df481.groupby('申请结果').size()).iloc[3][0])\n",
    "list2.append(pd.DataFrame(df491.groupby('申请结果').size()).iloc[3][0])\n",
    "list3.append(pd.DataFrame(df401.groupby('申请结果').size()).iloc[3][0])\n",
    "\n",
    "list1.append(pd.DataFrame(df581.groupby('申请结果').size()).iloc[3][0])\n",
    "list2.append(pd.DataFrame(df591.groupby('申请结果').size()).iloc[3][0])\n",
    "list3.append(0)\n",
    "\n",
    "\n",
    "persono=pd.DataFrame()\n",
    "persono[\"year\"]=[2018]*5+[2019]*5+[2020]*5\n",
    "persono[\"total\"]=list1+list2+list3\n",
    "persono[\"country\"]=name*3\n",
    "persono[\"rate\"]=persono[\"total\"].div(person[\"total\"])"
   ]
  },
  {
   "cell_type": "markdown",
   "metadata": {},
   "source": [
    "1）18\\19\\20届各地区的失败申请人数"
   ]
  },
  {
   "cell_type": "code",
   "execution_count": 47,
   "metadata": {},
   "outputs": [
    {
     "data": {
      "image/png": "[encoded data removed]",
      "text/plain": [
       "<Figure size 576x576 with 1 Axes>"
      ]
     },
     "metadata": {
      "needs_background": "light"
     },
     "output_type": "display_data"
    }
   ],
   "source": [
    "plt.rcParams['figure.figsize'] = [8,8]\n",
    "plt.figure()\n",
    "sns.barplot(x='year',y='total',hue='country',data=persono)\n",
    "plt.title('申请人数')\n",
    "plt.show()"
   ]
  },
  {
   "cell_type": "markdown",
   "metadata": {},
   "source": [
    "2）18\\19\\20届各地区的失败申请率"
   ]
  },
  {
   "cell_type": "code",
   "execution_count": 49,
   "metadata": {
    "scrolled": true
   },
   "outputs": [
    {
     "data": {
      "image/png": "[encoded data removed]",
      "text/plain": [
       "<Figure size 576x576 with 1 Axes>"
      ]
     },
     "metadata": {
      "needs_background": "light"
     },
     "output_type": "display_data"
    }
   ],
   "source": [
    "plt.rcParams['figure.figsize'] = [8,8]\n",
    "plt.figure()\n",
    "sns.barplot(x='year',y='rate',hue='country',data=persono)\n",
    "plt.title('申请失败率')\n",
    "plt.show()"
   ]
  },
  {
   "cell_type": "markdown",
   "metadata": {},
   "source": [
    "#### 4.2 通过方差分析检验对比18\\19\\20届的失败申请人数/失败申请率是否有显著性差异"
   ]
  },
  {
   "cell_type": "markdown",
   "metadata": {},
   "source": [
    "1）对于失败申请人数"
   ]
  },
  {
   "cell_type": "markdown",
   "metadata": {},
   "source": [
    "选择年份作为检验变量，通过方差分析检验18、19、20三年的申请人数是否有显著性差异。 方差分析的原假设为：三年的申请人数是没有显著性差异的"
   ]
  },
  {
   "cell_type": "code",
   "execution_count": 50,
   "metadata": {},
   "outputs": [
    {
     "data": {
      "text/plain": [
       "F_onewayResult(statistic=1.4282055881063416, pvalue=0.2777179890685502)"
      ]
     },
     "execution_count": 50,
     "metadata": {},
     "output_type": "execute_result"
    }
   ],
   "source": [
    "import scipy.stats as ss\n",
    "args = [list1,list2,list3]\n",
    "ss.f_oneway(*args)"
   ]
  },
  {
   "cell_type": "markdown",
   "metadata": {},
   "source": [
    "由上述检验结果可以得出，在显著性水平为0.1的条件下，检验的P值大于0.1，因此在统计意义上应该接受原假设，即三年的申请人数是没有显著性差异的"
   ]
  },
  {
   "cell_type": "markdown",
   "metadata": {},
   "source": [
    "2）对于失败申请率"
   ]
  },
  {
   "cell_type": "markdown",
   "metadata": {},
   "source": [
    "选择年份作为检验变量，通过方差分析检验18、19、20三年的申请失败率是否有显著性差异。 方差分析的原假设为：三年的申请失败率是没有显著性差异的"
   ]
  },
  {
   "cell_type": "code",
   "execution_count": 51,
   "metadata": {},
   "outputs": [
    {
     "data": {
      "text/plain": [
       "F_onewayResult(statistic=0.28969431329231765, pvalue=0.7535815724022181)"
      ]
     },
     "execution_count": 51,
     "metadata": {},
     "output_type": "execute_result"
    }
   ],
   "source": [
    "import scipy.stats as ss\n",
    "d1 = persono[persono[\"year\"]==2018]['rate']\n",
    "d2 = persono[persono[\"year\"]==2019]['rate']\n",
    "d3 = persono[persono[\"year\"]==2020]['rate']\n",
    "args = [d1,d2,d3]\n",
    "ss.f_oneway(*args)"
   ]
  },
  {
   "cell_type": "markdown",
   "metadata": {},
   "source": [
    "由上述检验结果可以得出，在显著性水平为0.1的条件下，检验的P值大于0.1，因此在统计意义上应该接受原假设，即三年的申请失败率是没有显著性差异的"
   ]
  },
  {
   "cell_type": "markdown",
   "metadata": {},
   "source": [
    "#### 4.3 通过方差分析检验对比五个地区的失败申请人数/失败申请率是否有显著性差异"
   ]
  },
  {
   "cell_type": "markdown",
   "metadata": {},
   "source": [
    "1）对于失败申请人数"
   ]
  },
  {
   "cell_type": "markdown",
   "metadata": {},
   "source": [
    "选择地区作为检验变量，通过方差分析检验五个地区的申请人数是否有显著性差异。 方差分析的原假设为：五个地区的申请人数是没有显著性差异的"
   ]
  },
  {
   "cell_type": "code",
   "execution_count": 60,
   "metadata": {},
   "outputs": [
    {
     "data": {
      "text/plain": [
       "F_onewayResult(statistic=1.8212857225668073, pvalue=0.20138366501133392)"
      ]
     },
     "execution_count": 60,
     "metadata": {},
     "output_type": "execute_result"
    }
   ],
   "source": [
    "d1 = persono[persono[\"country\"]==\"Aus\"]['total']\n",
    "d2 = persono[persono[\"country\"]==\"Sing\"]['total']\n",
    "d3 = persono[persono[\"country\"]==\"UK\"]['total']\n",
    "d4 = persono[persono[\"country\"]==\"HK\"]['total']\n",
    "d5 = persono[persono[\"country\"]==\"USA\"]['total']\n",
    "args = [d1,d2,d3,d4,d5]\n",
    "ss.f_oneway(*args)"
   ]
  },
  {
   "cell_type": "code",
   "execution_count": null,
   "metadata": {},
   "outputs": [],
   "source": [
    "由上述检验结果可以得出，在显著性水平为0.1的条件下，检验的P值大于0.1，因此在统计意义上应该接受原假设，即五个地区的申请人数是没有有显著性差异的"
   ]
  },
  {
   "cell_type": "markdown",
   "metadata": {},
   "source": [
    "2）对于失败申请率"
   ]
  },
  {
   "cell_type": "markdown",
   "metadata": {},
   "source": [
    "选择地区作为检验变量，通过方差分析检验五个地区的申请失败率是否有显著性差异。 方差分析的原假设为：五个地区的申请失败率是没有显著性差异的"
   ]
  },
  {
   "cell_type": "code",
   "execution_count": 61,
   "metadata": {},
   "outputs": [
    {
     "data": {
      "text/plain": [
       "F_onewayResult(statistic=2.2579594504380696, pvalue=0.13507965914601636)"
      ]
     },
     "execution_count": 61,
     "metadata": {},
     "output_type": "execute_result"
    }
   ],
   "source": [
    "d1 = persono[persono[\"country\"]==\"Aus\"]['rate']\n",
    "d2 = persono[persono[\"country\"]==\"Sing\"]['rate']\n",
    "d3 = persono[persono[\"country\"]==\"UK\"]['rate']\n",
    "d4 = persono[persono[\"country\"]==\"HK\"]['rate']\n",
    "d5 = persono[persono[\"country\"]==\"USA\"]['rate']\n",
    "args = [d1,d2,d3,d4,d5]\n",
    "ss.f_oneway(*args)"
   ]
  },
  {
   "cell_type": "markdown",
   "metadata": {},
   "source": [
    "由上述检验结果可以得出，在显著性水平为0.1的条件下，检验的P值大于0.1，因此在统计意义上应该接受原假设，即五个地区的申请失败率是没有显著性差异的"
   ]
  },
  {
   "cell_type": "code",
   "execution_count": null,
   "metadata": {},
   "outputs": [],
   "source": []
  },
  {
   "cell_type": "markdown",
   "metadata": {},
   "source": [
    "### 五、五个地区同期申请失败率对比"
   ]
  },
  {
   "cell_type": "code",
   "execution_count": 62,
   "metadata": {},
   "outputs": [
    {
     "data": {
      "text/plain": [
       "<Figure size 1440x720 with 0 Axes>"
      ]
     },
     "metadata": {},
     "output_type": "display_data"
    },
    {
     "data": {
      "image/png": "[encoded data removed]",
      "text/plain": [
       "<Figure size 576x576 with 1 Axes>"
      ]
     },
     "metadata": {
      "needs_background": "light"
     },
     "output_type": "display_data"
    }
   ],
   "source": [
    "d1 = persono[persono[\"year\"]==2018]['rate'].values\n",
    "d2 = persono[persono[\"year\"]==2019]['rate'].values\n",
    "d3 = persono[persono[\"year\"]==2020]['rate'].values\n",
    "rise1=pd.DataFrame(d2-d1).T\n",
    "rise2=pd.DataFrame(d3-d2).T\n",
    "rise=pd.concat([rise1,rise2]).reset_index(drop=True)\n",
    "rise.columns=name\n",
    "\n",
    "x = np.linspace(-1, 2, 50)\n",
    "y=0*x\n",
    "plt.figure(figsize=(20,10))\n",
    "colors = ['pink','orange','r','b','g']\n",
    "rise.plot(kind='bar',color=colors)\n",
    "\n",
    "plt.plot(x,y,color='black')\n",
    "my_y_ticks = np.arange(-0.1,0.1,0.01)\n",
    "plt.yticks(my_y_ticks)\n",
    "plt.ylim((-0.1, 0.1))\n",
    "\n",
    "plt.title('各地区同期申请失败率对比')\n",
    "plt.show()"
   ]
  },
  {
   "cell_type": "markdown",
   "metadata": {},
   "source": [
    "### 六、选取国家具体分析"
   ]
  },
  {
   "cell_type": "markdown",
   "metadata": {},
   "source": [
    "#### 6.1.英国PSW签证落地"
   ]
  },
  {
   "cell_type": "markdown",
   "metadata": {},
   "source": [
    "2019.9.10放出消息，2019.10.10正式落地\n"
   ]
  },
  {
   "cell_type": "markdown",
   "metadata": {},
   "source": [
    "分为不同年份同期9.10-10.10以及10.10-12.15两部分进行分段研究"
   ]
  },
  {
   "cell_type": "markdown",
   "metadata": {},
   "source": [
    "6.1.1.申请量比较"
   ]
  },
  {
   "cell_type": "code",
   "execution_count": 68,
   "metadata": {},
   "outputs": [],
   "source": [
    "uk181=df38.loc['2017-9-10':'2017-10-10']\n",
    "uk191=df39.loc['2018-9-10':'2018-10-10']\n",
    "uk101=df30.loc['2019-9-10':'2019-10-10']\n",
    "\n",
    "uk281=df38.loc['2017-10-11':'2017-12-15']\n",
    "uk291=df39.loc['2018-10-11':'2018-12-15']\n",
    "uk201=df30.loc['2019-10-11':'2019-12-15']\n",
    "\n",
    "list1=[[uk181.shape[0],uk281.shape[0]],[uk191.shape[0],uk291.shape[0]],[uk101.shape[0],uk201.shape[0]]]\n",
    "uk1=pd.DataFrame(data={'2018':list1[0],'2019':list1[1],'2020':list1[2]},index=['9.10-10.10','10.11-12.15'])"
   ]
  },
  {
   "cell_type": "code",
   "execution_count": 69,
   "metadata": {},
   "outputs": [
    {
     "data": {
      "text/html": [
       "<div>\n",
       "<style scoped>\n",
       "    .dataframe tbody tr th:only-of-type {\n",
       "        vertical-align: middle;\n",
       "    }\n",
       "\n",
       "    .dataframe tbody tr th {\n",
       "        vertical-align: top;\n",
       "    }\n",
       "\n",
       "    .dataframe thead th {\n",
       "        text-align: right;\n",
       "    }\n",
       "</style>\n",
       "<table border=\"1\" class=\"dataframe\">\n",
       "  <thead>\n",
       "    <tr style=\"text-align: right;\">\n",
       "      <th></th>\n",
       "      <th>2018</th>\n",
       "      <th>2019</th>\n",
       "      <th>2020</th>\n",
       "    </tr>\n",
       "  </thead>\n",
       "  <tbody>\n",
       "    <tr>\n",
       "      <td>9.10-10.10</td>\n",
       "      <td>8</td>\n",
       "      <td>34</td>\n",
       "      <td>22</td>\n",
       "    </tr>\n",
       "    <tr>\n",
       "      <td>10.11-12.15</td>\n",
       "      <td>173</td>\n",
       "      <td>541</td>\n",
       "      <td>226</td>\n",
       "    </tr>\n",
       "  </tbody>\n",
       "</table>\n",
       "</div>"
      ],
      "text/plain": [
       "             2018  2019  2020\n",
       "9.10-10.10      8    34    22\n",
       "10.11-12.15   173   541   226"
      ]
     },
     "execution_count": 69,
     "metadata": {},
     "output_type": "execute_result"
    }
   ],
   "source": [
    "uk1"
   ]
  },
  {
   "cell_type": "code",
   "execution_count": 70,
   "metadata": {},
   "outputs": [
    {
     "data": {
      "text/html": [
       "<div>\n",
       "<style scoped>\n",
       "    .dataframe tbody tr th:only-of-type {\n",
       "        vertical-align: middle;\n",
       "    }\n",
       "\n",
       "    .dataframe tbody tr th {\n",
       "        vertical-align: top;\n",
       "    }\n",
       "\n",
       "    .dataframe thead th {\n",
       "        text-align: right;\n",
       "    }\n",
       "</style>\n",
       "<table border=\"1\" class=\"dataframe\">\n",
       "  <thead>\n",
       "    <tr style=\"text-align: right;\">\n",
       "      <th></th>\n",
       "      <th>2018</th>\n",
       "      <th>2019</th>\n",
       "      <th>2020</th>\n",
       "    </tr>\n",
       "  </thead>\n",
       "  <tbody>\n",
       "    <tr>\n",
       "      <td>9.10-10.10</td>\n",
       "      <td>0.044199</td>\n",
       "      <td>0.05913</td>\n",
       "      <td>0.087649</td>\n",
       "    </tr>\n",
       "    <tr>\n",
       "      <td>10.11-12.15</td>\n",
       "      <td>0.955801</td>\n",
       "      <td>0.94087</td>\n",
       "      <td>0.900398</td>\n",
       "    </tr>\n",
       "  </tbody>\n",
       "</table>\n",
       "</div>"
      ],
      "text/plain": [
       "                 2018     2019      2020\n",
       "9.10-10.10   0.044199  0.05913  0.087649\n",
       "10.11-12.15  0.955801  0.94087  0.900398"
      ]
     },
     "execution_count": 70,
     "metadata": {},
     "output_type": "execute_result"
    }
   ],
   "source": [
    "total1=pd.DataFrame(data={'2018':181,'2019':575,'2020':251},index=['9.10-10.10','10.11-12.15'])\n",
    "sumuk=uk1.div(total1)\n",
    "sumuk"
   ]
  },
  {
   "cell_type": "code",
   "execution_count": 74,
   "metadata": {},
   "outputs": [
    {
     "data": {
      "image/png": "[encoded data removed]",
      "text/plain": [
       "<Figure size 576x576 with 1 Axes>"
      ]
     },
     "metadata": {
      "needs_background": "light"
     },
     "output_type": "display_data"
    }
   ],
   "source": [
    "shenqingliang=pd.DataFrame()\n",
    "shenqingliang[\"year\"]=[2018]*2+[2019]*2+[2020]*2\n",
    "shenqingliang[\"total\"]=[uk181.shape[0],uk281.shape[0]]+[uk191.shape[0],uk291.shape[0]]+[uk101.shape[0],uk201.shape[0]]\n",
    "shenqingliang[\"date\"]=['9.10-10.10','10.11-12.15']*3\n",
    "\n",
    "plt.rcParams['figure.figsize'] = [8,8]\n",
    "plt.figure()\n",
    "sns.barplot(x='date',y='total',hue='year',data=shenqingliang)\n",
    "plt.title('申请量')\n",
    "plt.show()"
   ]
  },
  {
   "cell_type": "markdown",
   "metadata": {},
   "source": [
    "6.1.2.申请人数比较"
   ]
  },
  {
   "cell_type": "code",
   "execution_count": 71,
   "metadata": {},
   "outputs": [],
   "source": [
    "uk182=df381.loc['2017-9-10':'2017-10-10']\n",
    "uk192=df391.loc['2018-9-10':'2018-10-10']\n",
    "uk102=df301.loc['2019-9-10':'2019-10-10']\n",
    "\n",
    "uk282=df381.loc['2017-10-11':'2017-12-15']\n",
    "uk292=df391.loc['2018-10-11':'2018-12-15']\n",
    "uk202=df301.loc['2019-10-11':'2019-12-15']\n",
    "\n",
    "list1=[[uk182.shape[0],uk282.shape[0]],[uk192.shape[0],uk292.shape[0]],[uk102.shape[0],uk202.shape[0]]]\n",
    "uk2=pd.DataFrame(data={'2018':list1[0],'2019':list1[1],'2020':list1[2]},index=['9.10-10.10','10.11-12.15'])"
   ]
  },
  {
   "cell_type": "code",
   "execution_count": 72,
   "metadata": {},
   "outputs": [
    {
     "data": {
      "text/html": [
       "<div>\n",
       "<style scoped>\n",
       "    .dataframe tbody tr th:only-of-type {\n",
       "        vertical-align: middle;\n",
       "    }\n",
       "\n",
       "    .dataframe tbody tr th {\n",
       "        vertical-align: top;\n",
       "    }\n",
       "\n",
       "    .dataframe thead th {\n",
       "        text-align: right;\n",
       "    }\n",
       "</style>\n",
       "<table border=\"1\" class=\"dataframe\">\n",
       "  <thead>\n",
       "    <tr style=\"text-align: right;\">\n",
       "      <th></th>\n",
       "      <th>2018</th>\n",
       "      <th>2019</th>\n",
       "      <th>2020</th>\n",
       "    </tr>\n",
       "  </thead>\n",
       "  <tbody>\n",
       "    <tr>\n",
       "      <td>9.10-10.10</td>\n",
       "      <td>4</td>\n",
       "      <td>20</td>\n",
       "      <td>14</td>\n",
       "    </tr>\n",
       "    <tr>\n",
       "      <td>10.11-12.15</td>\n",
       "      <td>81</td>\n",
       "      <td>262</td>\n",
       "      <td>108</td>\n",
       "    </tr>\n",
       "  </tbody>\n",
       "</table>\n",
       "</div>"
      ],
      "text/plain": [
       "             2018  2019  2020\n",
       "9.10-10.10      4    20    14\n",
       "10.11-12.15    81   262   108"
      ]
     },
     "execution_count": 72,
     "metadata": {},
     "output_type": "execute_result"
    }
   ],
   "source": [
    "uk2"
   ]
  },
  {
   "cell_type": "code",
   "execution_count": 73,
   "metadata": {
    "scrolled": true
   },
   "outputs": [
    {
     "data": {
      "text/html": [
       "<div>\n",
       "<style scoped>\n",
       "    .dataframe tbody tr th:only-of-type {\n",
       "        vertical-align: middle;\n",
       "    }\n",
       "\n",
       "    .dataframe tbody tr th {\n",
       "        vertical-align: top;\n",
       "    }\n",
       "\n",
       "    .dataframe thead th {\n",
       "        text-align: right;\n",
       "    }\n",
       "</style>\n",
       "<table border=\"1\" class=\"dataframe\">\n",
       "  <thead>\n",
       "    <tr style=\"text-align: right;\">\n",
       "      <th></th>\n",
       "      <th>2018</th>\n",
       "      <th>2019</th>\n",
       "      <th>2020</th>\n",
       "    </tr>\n",
       "  </thead>\n",
       "  <tbody>\n",
       "    <tr>\n",
       "      <td>9.10-10.10</td>\n",
       "      <td>0.047059</td>\n",
       "      <td>0.070922</td>\n",
       "      <td>0.114754</td>\n",
       "    </tr>\n",
       "    <tr>\n",
       "      <td>10.11-12.15</td>\n",
       "      <td>0.952941</td>\n",
       "      <td>0.929078</td>\n",
       "      <td>0.885246</td>\n",
       "    </tr>\n",
       "  </tbody>\n",
       "</table>\n",
       "</div>"
      ],
      "text/plain": [
       "                 2018      2019      2020\n",
       "9.10-10.10   0.047059  0.070922  0.114754\n",
       "10.11-12.15  0.952941  0.929078  0.885246"
      ]
     },
     "execution_count": 73,
     "metadata": {},
     "output_type": "execute_result"
    }
   ],
   "source": [
    "total2=pd.DataFrame(data={'2018':85,'2019':282,'2020':122},index=['9.10-10.10','10.11-12.15'])\n",
    "personuk=uk2.div(total2)\n",
    "personuk"
   ]
  },
  {
   "cell_type": "code",
   "execution_count": 75,
   "metadata": {},
   "outputs": [
    {
     "data": {
      "image/png": "[encoded data removed]",
      "text/plain": [
       "<Figure size 576x576 with 1 Axes>"
      ]
     },
     "metadata": {
      "needs_background": "light"
     },
     "output_type": "display_data"
    }
   ],
   "source": [
    "shenqingliang=pd.DataFrame()\n",
    "shenqingliang[\"year\"]=[2018]*2+[2019]*2+[2020]*2\n",
    "shenqingliang[\"total\"]=[uk182.shape[0],uk282.shape[0]]+[uk192.shape[0],uk292.shape[0]]+[uk102.shape[0],uk202.shape[0]]\n",
    "shenqingliang[\"date\"]=['9.10-10.10','10.11-12.15']*3\n",
    "\n",
    "plt.rcParams['figure.figsize'] = [8,8]\n",
    "plt.figure()\n",
    "sns.barplot(x='date',y='total',hue='year',data=shenqingliang)\n",
    "plt.title('申请量')\n",
    "plt.show()"
   ]
  },
  {
   "cell_type": "markdown",
   "metadata": {},
   "source": [
    "可能受申请周期影响，目前获取的offer数有限，英国有利的留学政策对留学结果的影响不是非常明显，与去年同期几乎呈齐平状态，后续会继续观测。"
   ]
  },
  {
   "cell_type": "markdown",
   "metadata": {},
   "source": [
    "#### 6.2 香港事件对申请结果的影响"
   ]
  },
  {
   "cell_type": "markdown",
   "metadata": {},
   "source": [
    "经研究发现香港地区的offer是从9月份开始报告的，申请季不穿插在7.8月份最集中的香港暴力行为间，故不对香港地区的申请时间段进行再次分类，直接对总数进行研究"
   ]
  },
  {
   "cell_type": "code",
   "execution_count": 117,
   "metadata": {},
   "outputs": [],
   "source": [
    "hk181=df48.loc['2017-2-1':'2017-7-10']\n",
    "hk191=df49.loc['2018-2-1':'2018-7-10']\n",
    "hk101=df40.loc['2019-2-1':'2019-7-10']\n",
    "\n",
    "hk281=df48.loc['2017-7-11':'2017-12-15']\n",
    "hk291=df49.loc['2018-7-11':'2018-12-15']\n",
    "hk201=df40.loc['2019-2-11':'2019-12-15']\n",
    "\n",
    "alist=[[hk181.shape[0],hk281.shape[0]],[hk191.shape[0],hk291.shape[0]],[hk101.shape[0],hk201.shape[0]]]\n",
    "sumhk=pd.DataFrame(data={'2018':alist[0],'2019':alist[1],'2020':alist[2]},index=['2.1-7.10','7.11-12.15'])"
   ]
  },
  {
   "cell_type": "code",
   "execution_count": 118,
   "metadata": {},
   "outputs": [],
   "source": [
    "hk182=df481.loc['2017-2-1':'2017-7-10']\n",
    "hk192=df491.loc['2018-2-1':'2018-7-10']\n",
    "hk102=df401.loc['2019-2-1':'2019-7-10']\n",
    "\n",
    "hk282=df481.loc['2017-7-11':'2017-12-15']\n",
    "hk292=df491.loc['2018-7-11':'2018-12-15']\n",
    "hk202=df401.loc['2019-2-11':'2019-12-15']\n",
    "\n",
    "alist=[[hk182.shape[0],hk282.shape[0]],[hk192.shape[0],hk292.shape[0]],[hk102.shape[0],hk202.shape[0]]]\n",
    "personhk=pd.DataFrame(data={'2018':alist[0],'2019':alist[1],'2020':alist[2]},index=['2.1-7.10','7.11-12.15'])"
   ]
  },
  {
   "cell_type": "code",
   "execution_count": 119,
   "metadata": {},
   "outputs": [
    {
     "name": "stdout",
     "output_type": "stream",
     "text": [
      "            2018  2019  2020\n",
      "2.1-7.10       0     0     0\n",
      "7.11-12.15   191   439    75\n"
     ]
    },
    {
     "data": {
      "image/png": "[encoded data removed]",
      "text/plain": [
       "<Figure size 576x576 with 1 Axes>"
      ]
     },
     "metadata": {
      "needs_background": "light"
     },
     "output_type": "display_data"
    }
   ],
   "source": [
    "sumhk.plot.barh(width=0.3)\n",
    "plt.title('香港地区同期申请量对比')\n",
    "print(sumhk)"
   ]
  },
  {
   "cell_type": "code",
   "execution_count": 120,
   "metadata": {},
   "outputs": [
    {
     "name": "stdout",
     "output_type": "stream",
     "text": [
      "            2018  2019  2020\n",
      "2.1-7.10       0     0     0\n",
      "7.11-12.15   143   348    69\n"
     ]
    },
    {
     "data": {
      "image/png": "[encoded data removed]",
      "text/plain": [
       "<Figure size 576x576 with 1 Axes>"
      ]
     },
     "metadata": {
      "needs_background": "light"
     },
     "output_type": "display_data"
    }
   ],
   "source": [
    "personhk.plot.barh(width=0.3)\n",
    "plt.title('香港地区同期申请人数对比')\n",
    "print(personhk)"
   ]
  },
  {
   "cell_type": "markdown",
   "metadata": {},
   "source": [
    "受社会安全，形势等影响，香港地区申请率受到影响，同期下降较大。"
   ]
  },
  {
   "cell_type": "markdown",
   "metadata": {},
   "source": [
    "### 七、具体学校数据分析"
   ]
  },
  {
   "cell_type": "markdown",
   "metadata": {},
   "source": [
    "以英国为例，从其具体学校录取角度分析录取情况的变化"
   ]
  },
  {
   "cell_type": "markdown",
   "metadata": {},
   "source": [
    "7.1首先在三年同期时间段中获取offer结果的申请人中 进行去重"
   ]
  },
  {
   "cell_type": "code",
   "execution_count": 121,
   "metadata": {},
   "outputs": [],
   "source": [
    "df38o1=df38[~df38['申请结果'].isin(['被拒','Waitinglist'])]\n",
    "df39o1=df39[~df39['申请结果'].isin(['被拒','Waitinglist'])]\n",
    "df30o1=df30[~df30['申请结果'].isin(['被拒','Waitinglist'])]\n",
    "\n",
    "uko1=df38o1.drop_duplicates(['id'],keep='first').reset_index(drop=True)\n",
    "uko2=df39o1.drop_duplicates(['id'],keep='first').reset_index(drop=True)\n",
    "uko3=df30o1.drop_duplicates(['id'],keep='first').reset_index(drop=True)"
   ]
  },
  {
   "cell_type": "code",
   "execution_count": 122,
   "metadata": {},
   "outputs": [
    {
     "data": {
      "text/html": [
       "<div>\n",
       "<style scoped>\n",
       "    .dataframe tbody tr th:only-of-type {\n",
       "        vertical-align: middle;\n",
       "    }\n",
       "\n",
       "    .dataframe tbody tr th {\n",
       "        vertical-align: top;\n",
       "    }\n",
       "\n",
       "    .dataframe thead th {\n",
       "        text-align: right;\n",
       "    }\n",
       "</style>\n",
       "<table border=\"1\" class=\"dataframe\">\n",
       "  <thead>\n",
       "    <tr style=\"text-align: right;\">\n",
       "      <th></th>\n",
       "      <th>id</th>\n",
       "      <th>TOEFL</th>\n",
       "      <th>IELTS</th>\n",
       "      <th>GRE</th>\n",
       "      <th>GMAT</th>\n",
       "      <th>本科学校档次</th>\n",
       "      <th>本科专业</th>\n",
       "      <th>本科GPA及排名</th>\n",
       "      <th>研究生学校档次</th>\n",
       "      <th>研究生专业</th>\n",
       "      <th>研究生GPA及排名</th>\n",
       "      <th>其他说明</th>\n",
       "      <th>OFFER标签数</th>\n",
       "      <th>申请学校</th>\n",
       "      <th>申请学位</th>\n",
       "      <th>申请专业</th>\n",
       "      <th>申请结果</th>\n",
       "      <th>入学年度</th>\n",
       "      <th>入学时间</th>\n",
       "      <th>通知时间</th>\n",
       "    </tr>\n",
       "  </thead>\n",
       "  <tbody>\n",
       "    <tr>\n",
       "      <td>0</td>\n",
       "      <td>2216819</td>\n",
       "      <td>NaN</td>\n",
       "      <td>Overall: 6.5, R: 7 / L: 6. / S: 6 / W: 6</td>\n",
       "      <td>NaN</td>\n",
       "      <td>NaN</td>\n",
       "      <td>211</td>\n",
       "      <td>英语翻译</td>\n",
       "      <td>82.3大平均分</td>\n",
       "      <td>NaN</td>\n",
       "      <td>NaN</td>\n",
       "      <td>NaN</td>\n",
       "      <td>我所在的是本校下辖的二本外国语学院。没发过论文，没有牛推。与他人合译过一本小说集，现已电子出...</td>\n",
       "      <td>4</td>\n",
       "      <td>The University of Nottingham</td>\n",
       "      <td>MA</td>\n",
       "      <td>Linguistics, Interpretation, and Translation</td>\n",
       "      <td>offer</td>\n",
       "      <td>2019</td>\n",
       "      <td>Fall</td>\n",
       "      <td>2019-12-12</td>\n",
       "    </tr>\n",
       "    <tr>\n",
       "      <td>1</td>\n",
       "      <td>2217632</td>\n",
       "      <td>NaN</td>\n",
       "      <td>Overall: 7, R: 7 / L: 7.5 / S: 6.5 / W: 6.5</td>\n",
       "      <td>NaN</td>\n",
       "      <td>NaN</td>\n",
       "      <td>211</td>\n",
       "      <td>电子商务</td>\n",
       "      <td>3.5/4.0</td>\n",
       "      <td>NaN</td>\n",
       "      <td>NaN</td>\n",
       "      <td>NaN</td>\n",
       "      <td>NaN</td>\n",
       "      <td>3</td>\n",
       "      <td>University of Bath</td>\n",
       "      <td>MS</td>\n",
       "      <td>Business Analytics</td>\n",
       "      <td>offer</td>\n",
       "      <td>2019</td>\n",
       "      <td>Fall</td>\n",
       "      <td>2019-11-26</td>\n",
       "    </tr>\n",
       "    <tr>\n",
       "      <td>2</td>\n",
       "      <td>2240431</td>\n",
       "      <td>NaN</td>\n",
       "      <td>Overall: 7, R: 7.5 / L: 7 / S: 7 / W: 6</td>\n",
       "      <td>NaN</td>\n",
       "      <td>NaN</td>\n",
       "      <td>NaN</td>\n",
       "      <td>NaN</td>\n",
       "      <td>NaN</td>\n",
       "      <td>NaN</td>\n",
       "      <td>NaN</td>\n",
       "      <td>NaN</td>\n",
       "      <td>NaN</td>\n",
       "      <td>1</td>\n",
       "      <td>Kings College London</td>\n",
       "      <td>BSc</td>\n",
       "      <td>ECONOMICS AND MANAGEMENT</td>\n",
       "      <td>offer</td>\n",
       "      <td>2019</td>\n",
       "      <td>Fall</td>\n",
       "      <td>2019-12-05</td>\n",
       "    </tr>\n",
       "    <tr>\n",
       "      <td>3</td>\n",
       "      <td>2250143</td>\n",
       "      <td>Overall: 101, R: 25 / L: 30 / S: 21 / W: 25</td>\n",
       "      <td>NaN</td>\n",
       "      <td>NaN</td>\n",
       "      <td>NaN</td>\n",
       "      <td>辅仁大学</td>\n",
       "      <td>英语系</td>\n",
       "      <td>88</td>\n",
       "      <td>NaN</td>\n",
       "      <td>NaN</td>\n",
       "      <td>NaN</td>\n",
       "      <td>NaN</td>\n",
       "      <td>0</td>\n",
       "      <td>University of Birmingham</td>\n",
       "      <td>MS</td>\n",
       "      <td>Linguistics, Interpretation, and Translation</td>\n",
       "      <td>offer</td>\n",
       "      <td>2019</td>\n",
       "      <td>Fall</td>\n",
       "      <td>2019-10-01</td>\n",
       "    </tr>\n",
       "    <tr>\n",
       "      <td>4</td>\n",
       "      <td>2271464</td>\n",
       "      <td>NaN</td>\n",
       "      <td>Overall: 6.5, R: 8 / L: 6.5 / S: 5.5 / W: 5.5</td>\n",
       "      <td>NaN</td>\n",
       "      <td>NaN</td>\n",
       "      <td>211 &amp; 985</td>\n",
       "      <td>统计学</td>\n",
       "      <td>3.7/5</td>\n",
       "      <td>NaN</td>\n",
       "      <td>NaN</td>\n",
       "      <td>NaN</td>\n",
       "      <td>NaN</td>\n",
       "      <td>3</td>\n",
       "      <td>The University of Manchester</td>\n",
       "      <td>MS</td>\n",
       "      <td>数据科学</td>\n",
       "      <td>Wailting list</td>\n",
       "      <td>2019</td>\n",
       "      <td>Fall</td>\n",
       "      <td>2019-11-29</td>\n",
       "    </tr>\n",
       "  </tbody>\n",
       "</table>\n",
       "</div>"
      ],
      "text/plain": [
       "        id                                        TOEFL  \\\n",
       "0  2216819                                          NaN   \n",
       "1  2217632                                          NaN   \n",
       "2  2240431                                          NaN   \n",
       "3  2250143  Overall: 101, R: 25 / L: 30 / S: 21 / W: 25   \n",
       "4  2271464                                          NaN   \n",
       "\n",
       "                                           IELTS  GRE GMAT     本科学校档次  本科专业  \\\n",
       "0       Overall: 6.5, R: 7 / L: 6. / S: 6 / W: 6  NaN  NaN        211  英语翻译   \n",
       "1    Overall: 7, R: 7 / L: 7.5 / S: 6.5 / W: 6.5  NaN  NaN        211  电子商务   \n",
       "2        Overall: 7, R: 7.5 / L: 7 / S: 7 / W: 6  NaN  NaN        NaN   NaN   \n",
       "3                                            NaN  NaN  NaN       辅仁大学   英语系   \n",
       "4  Overall: 6.5, R: 8 / L: 6.5 / S: 5.5 / W: 5.5  NaN  NaN  211 & 985   统计学   \n",
       "\n",
       "   本科GPA及排名 研究生学校档次 研究生专业 研究生GPA及排名  \\\n",
       "0  82.3大平均分     NaN   NaN       NaN   \n",
       "1   3.5/4.0     NaN   NaN       NaN   \n",
       "2       NaN     NaN   NaN       NaN   \n",
       "3        88     NaN   NaN       NaN   \n",
       "4     3.7/5     NaN   NaN       NaN   \n",
       "\n",
       "                                                其他说明  OFFER标签数  \\\n",
       "0  我所在的是本校下辖的二本外国语学院。没发过论文，没有牛推。与他人合译过一本小说集，现已电子出...         4   \n",
       "1                                                NaN         3   \n",
       "2                                                NaN         1   \n",
       "3                                                NaN         0   \n",
       "4                                                NaN         3   \n",
       "\n",
       "                           申请学校 申请学位  \\\n",
       "0  The University of Nottingham   MA   \n",
       "1            University of Bath   MS   \n",
       "2          Kings College London  BSc   \n",
       "3      University of Birmingham   MS   \n",
       "4  The University of Manchester   MS   \n",
       "\n",
       "                                           申请专业           申请结果  入学年度  入学时间  \\\n",
       "0  Linguistics, Interpretation, and Translation          offer  2019  Fall   \n",
       "1                            Business Analytics          offer  2019  Fall   \n",
       "2                      ECONOMICS AND MANAGEMENT          offer  2019  Fall   \n",
       "3  Linguistics, Interpretation, and Translation          offer  2019  Fall   \n",
       "4                                          数据科学  Wailting list  2019  Fall   \n",
       "\n",
       "         通知时间  \n",
       "0  2019-12-12  \n",
       "1  2019-11-26  \n",
       "2  2019-12-05  \n",
       "3  2019-10-01  \n",
       "4  2019-11-29  "
      ]
     },
     "execution_count": 122,
     "metadata": {},
     "output_type": "execute_result"
    }
   ],
   "source": [
    "uko3.head()"
   ]
  },
  {
   "cell_type": "markdown",
   "metadata": {},
   "source": [
    "7.2.将个人信息中缺失值过多的列去掉"
   ]
  },
  {
   "cell_type": "code",
   "execution_count": 123,
   "metadata": {
    "scrolled": true
   },
   "outputs": [
    {
     "name": "stdout",
     "output_type": "stream",
     "text": [
      "81 265 108\n"
     ]
    }
   ],
   "source": [
    "print(uko1['GRE'].isnull().sum(),uko2['GRE'].isnull().sum(),uko3['GRE'].isnull().sum())"
   ]
  },
  {
   "cell_type": "code",
   "execution_count": 124,
   "metadata": {
    "scrolled": true
   },
   "outputs": [
    {
     "name": "stdout",
     "output_type": "stream",
     "text": [
      "78 249 99\n"
     ]
    }
   ],
   "source": [
    "print(uko1['TOEFL'].isnull().sum(),uko2['TOEFL'].isnull().sum(),uko3['TOEFL'].isnull().sum())"
   ]
  },
  {
   "cell_type": "code",
   "execution_count": 125,
   "metadata": {},
   "outputs": [
    {
     "name": "stdout",
     "output_type": "stream",
     "text": [
      "77 256 106\n"
     ]
    }
   ],
   "source": [
    "print(uko1['研究生学校档次'].isnull().sum(),uko2['研究生学校档次'].isnull().sum(),uko3['研究生学校档次'].isnull().sum())"
   ]
  },
  {
   "cell_type": "code",
   "execution_count": 126,
   "metadata": {},
   "outputs": [
    {
     "name": "stdout",
     "output_type": "stream",
     "text": [
      "81 259 106\n"
     ]
    }
   ],
   "source": [
    "print(uko1['研究生GPA及排名'].isnull().sum(),uko2['研究生GPA及排名'].isnull().sum(),uko3['研究生GPA及排名'].isnull().sum())"
   ]
  },
  {
   "cell_type": "code",
   "execution_count": 127,
   "metadata": {},
   "outputs": [
    {
     "name": "stdout",
     "output_type": "stream",
     "text": [
      "78 258 106\n"
     ]
    }
   ],
   "source": [
    "print(uko1['研究生专业'].isnull().sum(),uko2['研究生专业'].isnull().sum(),uko3['研究生专业'].isnull().sum())"
   ]
  },
  {
   "cell_type": "code",
   "execution_count": 128,
   "metadata": {},
   "outputs": [
    {
     "name": "stdout",
     "output_type": "stream",
     "text": [
      "81 265 108\n"
     ]
    }
   ],
   "source": [
    "print(uko1.shape[0],uko2.shape[0],uko3.shape[0])  "
   ]
  },
  {
   "cell_type": "markdown",
   "metadata": {},
   "source": [
    "即GRE均为缺失值 "
   ]
  },
  {
   "cell_type": "markdown",
   "metadata": {},
   "source": [
    "没有\\没有提供TOEFL 以及没有读过研究生\\提供研究生信息的同学均达到95%以上 以及OFFER标签列均可以去掉"
   ]
  },
  {
   "cell_type": "code",
   "execution_count": 129,
   "metadata": {},
   "outputs": [],
   "source": [
    "del uko1['GRE']\n",
    "del uko2['GRE']\n",
    "del uko3['GRE']\n",
    "del uko1['TOEFL']\n",
    "del uko2['TOEFL']\n",
    "del uko3['TOEFL']\n",
    "del uko1['研究生学校档次']\n",
    "del uko1['研究生专业']\n",
    "del uko1['研究生GPA及排名']\n",
    "del uko2['研究生学校档次']\n",
    "del uko2['研究生专业']\n",
    "del uko2['研究生GPA及排名']\n",
    "del uko3['研究生学校档次']\n",
    "del uko3['研究生专业']\n",
    "del uko3['研究生GPA及排名'] \n",
    "del uko1['OFFER标签数']\n",
    "del uko2['OFFER标签数']\n",
    "del uko3['OFFER标签数']#drop函数无法正常使用"
   ]
  },
  {
   "cell_type": "code",
   "execution_count": 130,
   "metadata": {},
   "outputs": [
    {
     "data": {
      "text/html": [
       "<div>\n",
       "<style scoped>\n",
       "    .dataframe tbody tr th:only-of-type {\n",
       "        vertical-align: middle;\n",
       "    }\n",
       "\n",
       "    .dataframe tbody tr th {\n",
       "        vertical-align: top;\n",
       "    }\n",
       "\n",
       "    .dataframe thead th {\n",
       "        text-align: right;\n",
       "    }\n",
       "</style>\n",
       "<table border=\"1\" class=\"dataframe\">\n",
       "  <thead>\n",
       "    <tr style=\"text-align: right;\">\n",
       "      <th></th>\n",
       "      <th>id</th>\n",
       "      <th>IELTS</th>\n",
       "      <th>GMAT</th>\n",
       "      <th>本科学校档次</th>\n",
       "      <th>本科专业</th>\n",
       "      <th>本科GPA及排名</th>\n",
       "      <th>其他说明</th>\n",
       "      <th>申请学校</th>\n",
       "      <th>申请学位</th>\n",
       "      <th>申请专业</th>\n",
       "      <th>申请结果</th>\n",
       "      <th>入学年度</th>\n",
       "      <th>入学时间</th>\n",
       "      <th>通知时间</th>\n",
       "    </tr>\n",
       "  </thead>\n",
       "  <tbody>\n",
       "    <tr>\n",
       "      <td>0</td>\n",
       "      <td>2147059</td>\n",
       "      <td>Overall: 7.5, R: 8.0 / L: 8.5 / S: 6.5 / W: 7.0</td>\n",
       "      <td>Q: 50 / V: 30</td>\n",
       "      <td>211</td>\n",
       "      <td>广播电视新闻学</td>\n",
       "      <td>均分89</td>\n",
       "      <td>4份实习 每年都有奖学金 实践活动较多</td>\n",
       "      <td>University of Edinburgh</td>\n",
       "      <td>MS</td>\n",
       "      <td>Marketing</td>\n",
       "      <td>offer</td>\n",
       "      <td>2018</td>\n",
       "      <td>Fall</td>\n",
       "      <td>2017-11-08</td>\n",
       "    </tr>\n",
       "    <tr>\n",
       "      <td>1</td>\n",
       "      <td>2147313</td>\n",
       "      <td>Overall: 8, R: 9 / L: 8.5 / S: 7.5 / W: 7.5</td>\n",
       "      <td>NaN</td>\n",
       "      <td>浙大/复旦/南大/南开/武大/华中科大/上海交大/天大</td>\n",
       "      <td>英语</td>\n",
       "      <td>10%，1-100</td>\n",
       "      <td>选修了微积分，语言学课里学了一点编程（R），一份数据分析的实习。</td>\n",
       "      <td>University of Edinburgh</td>\n",
       "      <td>MS</td>\n",
       "      <td>Speech and Language Processing</td>\n",
       "      <td>AD无奖</td>\n",
       "      <td>2018</td>\n",
       "      <td>Fall</td>\n",
       "      <td>2017-12-04</td>\n",
       "    </tr>\n",
       "    <tr>\n",
       "      <td>2</td>\n",
       "      <td>2147482</td>\n",
       "      <td>Overall: 6.5, R: 7.5 / L: 6.5 / S: 6 / W: 6</td>\n",
       "      <td>NaN</td>\n",
       "      <td>双非</td>\n",
       "      <td>工程管理</td>\n",
       "      <td>82-83</td>\n",
       "      <td>NaN</td>\n",
       "      <td>University of Leeds</td>\n",
       "      <td>MS</td>\n",
       "      <td>engineering project management</td>\n",
       "      <td>offer</td>\n",
       "      <td>2018</td>\n",
       "      <td>Fall</td>\n",
       "      <td>2017-10-31</td>\n",
       "    </tr>\n",
       "    <tr>\n",
       "      <td>3</td>\n",
       "      <td>2147490</td>\n",
       "      <td>Overall: 7, R: / L: / S: / W:</td>\n",
       "      <td>NaN</td>\n",
       "      <td>NaN</td>\n",
       "      <td>NaN</td>\n",
       "      <td>NaN</td>\n",
       "      <td>NaN</td>\n",
       "      <td>University of Glasgow</td>\n",
       "      <td>MS</td>\n",
       "      <td>Educational studies</td>\n",
       "      <td>AD无奖</td>\n",
       "      <td>2018</td>\n",
       "      <td>Fall</td>\n",
       "      <td>2017-12-06</td>\n",
       "    </tr>\n",
       "    <tr>\n",
       "      <td>4</td>\n",
       "      <td>2147586</td>\n",
       "      <td>Overall: 6.5, R: 7.0 / L: 7.0 / S: 5.5 / W: 6.0</td>\n",
       "      <td>NaN</td>\n",
       "      <td>四川农业大学</td>\n",
       "      <td>风景园林专业</td>\n",
       "      <td>87.56</td>\n",
       "      <td>NaN</td>\n",
       "      <td>Newcastle University</td>\n",
       "      <td>MA</td>\n",
       "      <td>Landscape Architecture 景观设计</td>\n",
       "      <td>offer</td>\n",
       "      <td>2018</td>\n",
       "      <td>Fall</td>\n",
       "      <td>2017-11-15</td>\n",
       "    </tr>\n",
       "  </tbody>\n",
       "</table>\n",
       "</div>"
      ],
      "text/plain": [
       "        id                                            IELTS           GMAT  \\\n",
       "0  2147059  Overall: 7.5, R: 8.0 / L: 8.5 / S: 6.5 / W: 7.0  Q: 50 / V: 30   \n",
       "1  2147313      Overall: 8, R: 9 / L: 8.5 / S: 7.5 / W: 7.5            NaN   \n",
       "2  2147482      Overall: 6.5, R: 7.5 / L: 6.5 / S: 6 / W: 6            NaN   \n",
       "3  2147490                    Overall: 7, R: / L: / S: / W:            NaN   \n",
       "4  2147586  Overall: 6.5, R: 7.0 / L: 7.0 / S: 5.5 / W: 6.0            NaN   \n",
       "\n",
       "                        本科学校档次     本科专业   本科GPA及排名  \\\n",
       "0                          211  广播电视新闻学       均分89   \n",
       "1  浙大/复旦/南大/南开/武大/华中科大/上海交大/天大       英语  10%，1-100   \n",
       "2                           双非     工程管理      82-83   \n",
       "3                          NaN      NaN        NaN   \n",
       "4                       四川农业大学   风景园林专业      87.56   \n",
       "\n",
       "                               其他说明                     申请学校 申请学位  \\\n",
       "0               4份实习 每年都有奖学金 实践活动较多  University of Edinburgh   MS   \n",
       "1  选修了微积分，语言学课里学了一点编程（R），一份数据分析的实习。  University of Edinburgh   MS   \n",
       "2                               NaN      University of Leeds   MS   \n",
       "3                               NaN    University of Glasgow   MS   \n",
       "4                               NaN     Newcastle University   MA   \n",
       "\n",
       "                             申请专业   申请结果  入学年度  入学时间        通知时间  \n",
       "0                       Marketing  offer  2018  Fall  2017-11-08  \n",
       "1  Speech and Language Processing   AD无奖  2018  Fall  2017-12-04  \n",
       "2  engineering project management  offer  2018  Fall  2017-10-31  \n",
       "3             Educational studies   AD无奖  2018  Fall  2017-12-06  \n",
       "4     Landscape Architecture 景观设计  offer  2018  Fall  2017-11-15  "
      ]
     },
     "execution_count": 130,
     "metadata": {},
     "output_type": "execute_result"
    }
   ],
   "source": [
    "uko1.head()  #预览"
   ]
  },
  {
   "cell_type": "markdown",
   "metadata": {},
   "source": [
    "7.3.由于offer信息均为完全 故个人信息方面均能提供一定参考 故不进行删减处理"
   ]
  },
  {
   "cell_type": "markdown",
   "metadata": {},
   "source": [
    "### 八、对商科领域申请成功者的个人情况进行分析"
   ]
  },
  {
   "cell_type": "markdown",
   "metadata": {},
   "source": [
    "8.1.建立申请商科专业名录，以便对专业匹配进行筛选"
   ]
  },
  {
   "cell_type": "code",
   "execution_count": 131,
   "metadata": {},
   "outputs": [],
   "source": [
    "list3=['Business Analytics','数据科学', '数学金融','金融数学',\n",
    "'digital economy','ECONOMICS AND MANAGEMENT','Economics 经济','Finance & Economic Development',\n",
    "'Finance and Investment','Financial Management','HK:Financial Technology',\n",
    "'HK:MSc Finance','international marketing','management(marketing)','Marketing',\n",
    "'Money Banking and Finance']\n",
    "\n",
    "\n",
    "list2=['Management (Finance)','Finance and Accounting 财务与会计','Business analytics',\n",
    "'Financial Management','international banking law and finance','Actuarial Science',\n",
    "'MSC consumer analytics and marketing strategy','financial mathematics',\n",
    "'business analytics','Mathematics','Financial Mathematics',\n",
    "'Comparative Business Economics','Economics and Econometrics','金融数学',\n",
    "'Investments and Securities 投资证券','Human Resources Management 人力资源管理',\n",
    "'Banking and Finance 银行与金融','Investment Banking and Finance','Marketing',\n",
    "'Computational Mathematical Finance','Business Analytics','Financial forecasting and investment',\n",
    "'Advertising and Marketing','financial mathematics','Human Resources Management',\n",
    "'Data Science (Applied Urban Analytics)','Computational Mathematical Finance',\n",
    "'Global Economy','Economics','Econometrics and statistics','Human Resources Management 人力资源管理',\n",
    "'商务分析','marketing communication','金融数学','Economics and Econometrics 经济学和计量经济学',\n",
    "'商务金融与经济','Quantitative Finance','global supply chain management','Economics and Finance',\n",
    "'Mathematics','Finance 金融','Money banking and finance','international marketing','金数',\n",
    "'data analysis','FRM','Finance and Economics','Utipe (Economics)','Economics and Econometrics',\n",
    "'Scientific computing and data analysis','Comparative business economics','Accounting',\n",
    "'Finance 金融','quantitative social research','Accounting and Finance','Finance',\n",
    "'Comparative Business Economics','International Business','Economics and Econometrics',\n",
    "'operation and project management','financial risk management','市场营销','Investments and Securities 投资证券',\n",
    "'Marketing','国际金融','Economics and Finance','Business Analytics','Banking and Finance',\n",
    "'digital asset and media management','商法','quantitative social research','investment',\n",
    "'Economics and Econometrics','financial economics','Banking and Finance 银行与金融',\n",
    "'Economics and Business','Actuarial Science','Computational Mathematical Finance']\n",
    "\n",
    "\n",
    "list1=['Marketing','finance (corporate finance)','International Business Management','Finance',\n",
    "'financial management','Economics and Econometrics','finance (corporate finance)',\n",
    "'Internet system and e-business','Marketing','Financial Risk Management MSc',\n",
    "'Advertising & marketing','business analytics','Commerce Accounting','Management(Finnace)',\n",
    "'International Relations','financial mathematic','Economics, Accounting and Finance']\n",
    "\n",
    "list1.extend(list2)\n",
    "list1.extend(list3)"
   ]
  },
  {
   "cell_type": "code",
   "execution_count": 132,
   "metadata": {},
   "outputs": [],
   "source": [
    "uk1=uko1[uko1['申请专业'].isin(list1)]\n",
    "uk2=uko2[uko2['申请专业'].isin(list1)]\n",
    "uk3=uko3[uko3['申请专业'].isin(list1)]"
   ]
  },
  {
   "cell_type": "markdown",
   "metadata": {},
   "source": [
    "8.2.对IELTS\\GMAT\\GPA等数据信息进行大致提取"
   ]
  },
  {
   "cell_type": "markdown",
   "metadata": {},
   "source": [
    "先用groupby函数进行模式预览"
   ]
  },
  {
   "cell_type": "code",
   "execution_count": 134,
   "metadata": {
    "scrolled": false
   },
   "outputs": [
    {
     "name": "stdout",
     "output_type": "stream",
     "text": [
      "IELTS\n",
      "Overall: 5.5, R: 5 / L: 6 / S: 5 / W: 6            1\n",
      "Overall: 6.5, R: / L: / S: / W:                    1\n",
      "Overall: 6.5, R: 6.5 / L: 6.5 / S: 5.5 / W: 6.5    1\n",
      "Overall: 6.5, R: 7 / L: 6.5 / S: 6 / W: 6          1\n",
      "Overall: 6.5, R: 7 / L: 6.5 / S: 6 / W: 6.5        1\n",
      "Overall: 7, R: 7 / L: 7.5 / S: 7 / W: 6.5          2\n",
      "Overall: 7, R: 7.5 / L: 8 / S: 6 / W: 6            1\n",
      "Overall: 7, R: 8 / L: 8 / S: 6.5 / W: 6            1\n",
      "Overall: 7, R: 8.5 / L: 6.5 / S: 6 / W: 6          1\n",
      "Overall: 7.5, R: 8 / L: 8 / S: 6.5 / W: 6.5        1\n",
      "Overall: 7.5, R: 8.0 / L: 8.5 / S: 6.5 / W: 7.0    1\n",
      "Overall: 7.5, R: 9 / L: 8.5 / S: 6 / W: 6          1\n",
      "R: 8.5 / L: 8.5 / S: 6 / W: 6.5                    1\n",
      "dtype: int64\n",
      "GMAT\n",
      "Overall: 650, Q: 29 / V: 50    1\n",
      "Q: 50 / V: 30                  1\n",
      "dtype: int64\n",
      "本科GPA及排名\n",
      "3.38          1\n",
      "3.69          1\n",
      "84            2\n",
      "85            2\n",
      "87.7          1\n",
      "3.64/4.0      1\n",
      "3.66/4        1\n",
      "3.78/4        1\n",
      "87.6 3.7/5    1\n",
      "90.13，专业前5    1\n",
      "均分83.4        1\n",
      "均分89          1\n",
      "dtype: int64\n",
      "IELTS\n",
      "Overall: 6, R: 5.5 / L: 6.5 / S: 5.5 / W: 6        1\n",
      "Overall: 6, R: 6 / L: 5.5 / S: 5.5 / W: 6          2\n",
      "Overall: 6, R: 6 / L: 7 / S: 6 / W: 5.5            1\n",
      "Overall: 6, R: 6.0 / L: 6.5 / S: 6.0 / W: 5.5      1\n",
      "Overall: 6, R: 6.5 / L: 6 / S: 5.5 / W: 6          1\n",
      "Overall: 6, R: 7 / L: 5.5 / S: 5 / W: 5.5          1\n",
      "Overall: 6, R: 7 / L: 7 / S: 5 / W: 5              1\n",
      "Overall: 6.5, R: / L: / S: / W:                    2\n",
      "Overall: 6.5, R: 6.5 / L: 6 / S: 6.5 / W: 6        1\n",
      "Overall: 6.5, R: 6.5 / L: 7 / S: 5.5 / W: 6        1\n",
      "Overall: 6.5, R: 6.5 / L: 7.5 / S: 5.5 / W: 6      1\n",
      "Overall: 6.5, R: 6.5 / L: 7.5 / S: 6.0 / W: 6.0    1\n",
      "Overall: 6.5, R: 6.5 / L: 7.5 / S: 6.0 / W: 6.5    1\n",
      "Overall: 6.5, R: 7 / L: 6 / S: 6 / W: 6            2\n",
      "Overall: 6.5, R: 7 / L: 7 / S: 6 / W: 6            1\n",
      "Overall: 6.5, R: 7 / L: 7 / S: 6 / W: 6.5          1\n",
      "Overall: 6.5, R: 7 / L: 7.5 / S: 6 / W: 5.5        1\n",
      "Overall: 6.5, R: 7.0 / L: 7.0 / S: 6 / W: 6        1\n",
      "Overall: 6.5, R: 7.5 / L: 6 / S: 5.5 / W: 6        1\n",
      "Overall: 6.5, R: 8 / L: 6 / S: 5.5 / W: 6          1\n",
      "Overall: 6.5, R: 8 / L: 6.5 / S: 5.5 / W: 5.5      2\n",
      "Overall: 7, R: / L: / S: / W:                      2\n",
      "Overall: 7, R: / L: / S: 6 / W: 6                  1\n",
      "Overall: 7, R: 7 / L: 8 / S: 6 / W: 6              2\n",
      "Overall: 7, R: 7 / L: 8.5 / S: 6.5 / W: 6          1\n",
      "Overall: 7, R: 7.5 / L: 7 / S: 6.5 / W: 7          1\n",
      "Overall: 7, R: 7.5 / L: 7 / S: 7 / W: 6            1\n",
      "Overall: 7, R: 7.5 / L: 7.5 / S: 6.0 / W: 6.0      1\n",
      "Overall: 7, R: 7.5 / L: 7.5 / S: 6.5 / W: 6.5      1\n",
      "Overall: 7, R: 8 / L: 7 / S: 6 / W: 6.5            2\n",
      "Overall: 7, R: 8 / L: 7 / S: 6.5 / W: 6            1\n",
      "Overall: 7, R: 8 / L: 7.5 / S: 6 / W: 6            2\n",
      "Overall: 7, R: 8 / L: 8 / S: 6 / W: 6              1\n",
      "Overall: 7, R: 8.5 / L: 7 / S: 6 / W: 6            1\n",
      "Overall: 7, R: 8.5 / L: 7 / S: 6.5 / W: 6          1\n",
      "Overall: 7, R: 9 / L: 6.5 / S: 6 / W: 6.5          1\n",
      "Overall: 7, R: 9 / L: 7.5 / S: 6 / W: 6            1\n",
      "Overall: 7.5, R: / L: / S: / W:                    1\n",
      "Overall: 7.5, R: 7.5 / L: 8.5 / S: 7 / W: 6        1\n",
      "Overall: 7.5, R: 8 / L: 8.5 / S: 6 / W: 6.5        1\n",
      "Overall: 7.5, R: 8.5 / L: 8 / S: 6 / W: 6.5        2\n",
      "Overall: 7.5, R: 8.5 / L: 8 / S: 6.5 / W: 6        1\n",
      "Overall: 7.5, R: 8.5 / L: 8 / S: 6.5 / W: 6.5      1\n",
      "Overall: 7.5, R: 8.5 / L: 8 / S: 7 / W: 7          1\n",
      "Overall: 7.5, R: 8.5 / L: 8.0 / S: 6.5 / W: 7.5    1\n",
      "Overall: 7.5, R: 8.5 / L: 8.5 / S: 7.5 / W: 6      1\n",
      "Overall: 7.5, R: 9 / L: 8 / S: 6 / W: 7            1\n",
      "Overall: 7.5, R: 9 / L: 9 / S: 6 / W: 6.5          1\n",
      "Overall: 8, R: / L: / S: / W:                      1\n",
      "Overall: 8.0, R: 9 / L: 8 / S: 7.5 / W: 6.5        1\n",
      "dtype: int64\n",
      "GMAT\n",
      "Overall: 650, Q: 50 / V: 27    1\n",
      "Overall: 660, Q: / V:          2\n",
      "Overall: 710, Q: 49 / V: 36    1\n",
      "Overall: 710, Q: 51 / V: 35    1\n",
      "Overall: 720, Q: 49 / V: 40    1\n",
      "Overall: 92, Q: / V:           1\n",
      "dtype: int64\n",
      "本科GPA及排名\n",
      "0.85                            1\n",
      "3.27                            1\n",
      "3.4                             1\n",
      "3.7                             1\n",
      "3.91                            1\n",
      "                               ..\n",
      "UK First degree                 1\n",
      "中方gpa:3.5/4.0 外方 gpa:8.3/9.0    1\n",
      "加权80.97                         1\n",
      "加权88                            1\n",
      "学分绩:92.09                       1\n",
      "Length: 62, dtype: int64\n",
      "IELTS\n",
      "Overall: 6, R: 6.5 / L: 6.0 / S: 5.5 / W: 6        1\n",
      "Overall: 6.5, R: / L: / S: / W:                    1\n",
      "Overall: 6.5, R: 6 / L: 6.5 / S: 6.5 / W: 6        1\n",
      "Overall: 6.5, R: 7.5 / L: 6.0 / S: 5.5 / W: 6.0    1\n",
      "Overall: 6.5, R: 7.5 / L: 6.5 / S: 5.5 / W: 6.5    1\n",
      "Overall: 6.5, R: 8 / L: 6.5 / S: 5.5 / W: 5.5      1\n",
      "Overall: 6.5, R: 8 / L: 7.5 / S: 5.5 / W: 5.5      1\n",
      "Overall: 7, R: 7 / L: 7 / S: 7.5 / W: 6.5          1\n",
      "Overall: 7, R: 7 / L: 7.5 / S: 6.5 / W: 6.5        1\n",
      "Overall: 7, R: 7.5 / L: 7 / S: 7 / W: 6            1\n",
      "Overall: 7, R: 7.5 / L: 7.5 / S: 6 / W: 6          1\n",
      "Overall: 7, R: 7.5 / L: 7.5 / S: 6 / W: 7          1\n",
      "Overall: 7, R: 8 / L: 7. 5 / S: 6 / W: 6           1\n",
      "Overall: 7, R: 8 / L: 7.5 / S: 6 / W: 6            2\n",
      "Overall: 7, R: 8.5 / L: 7.0 / S: 6.5 / W: 6.0      1\n",
      "Overall: 7, R: 9 / L: 6 / S: 6 / W: 6              1\n",
      "Overall: 7.5, R: 8 / L: 8 / S: 7 / W: 6.5          1\n",
      "dtype: int64\n",
      "GMAT\n",
      "Overall: 660, Q: 50 / V: 30    2\n",
      "Overall: 89, Q: 51 / V: 38     1\n",
      "dtype: int64\n",
      "本科GPA及排名\n",
      "0.8603                        1\n",
      "3.05                          1\n",
      "77.58                         1\n",
      "84                            1\n",
      "84.43                         1\n",
      "87.39                         1\n",
      "3.35/4.0                      1\n",
      "3.5/4                         1\n",
      "3.5/4.0                       1\n",
      "3.54/4.0                      1\n",
      "3.6/4                         1\n",
      "3.7/5                         1\n",
      "3.74/5（87.4/100）              1\n",
      "3.8（专排top5）                   1\n",
      "71 Provisional First Class    1\n",
      "79.08/100                     1\n",
      "86 3.54                       1\n",
      "88/100                        1\n",
      "GPA 3.4                       1\n",
      "加权86.88，GPA3.71               1\n",
      "dtype: int64\n"
     ]
    }
   ],
   "source": [
    "for uk in [uk1,uk2,uk3]: \n",
    "    print(uk.groupby('IELTS').size())#IELTS模式统一 进行正则表达式提取即可\n",
    "    print(uk.groupby('GMAT').size()) #GMAT大致统一 极端值清除即可\n",
    "    print(uk.groupby('本科GPA及排名').size())  #模式混杂 包括分数形式和绩点形式"
   ]
  },
  {
   "cell_type": "markdown",
   "metadata": {},
   "source": [
    "运用正则表达式进行提取"
   ]
  },
  {
   "cell_type": "code",
   "execution_count": 135,
   "metadata": {},
   "outputs": [
    {
     "name": "stderr",
     "output_type": "stream",
     "text": [
      "c:\\users\\administrator\\appdata\\local\\programs\\python\\python37\\lib\\site-packages\\ipykernel_launcher.py:2: SettingWithCopyWarning: \n",
      "A value is trying to be set on a copy of a slice from a DataFrame.\n",
      "Try using .loc[row_indexer,col_indexer] = value instead\n",
      "\n",
      "See the caveats in the documentation: http://pandas.pydata.org/pandas-docs/stable/user_guide/indexing.html#returning-a-view-versus-a-copy\n",
      "  \n",
      "c:\\users\\administrator\\appdata\\local\\programs\\python\\python37\\lib\\site-packages\\ipykernel_launcher.py:3: SettingWithCopyWarning: \n",
      "A value is trying to be set on a copy of a slice from a DataFrame.\n",
      "Try using .loc[row_indexer,col_indexer] = value instead\n",
      "\n",
      "See the caveats in the documentation: http://pandas.pydata.org/pandas-docs/stable/user_guide/indexing.html#returning-a-view-versus-a-copy\n",
      "  This is separate from the ipykernel package so we can avoid doing imports until\n",
      "c:\\users\\administrator\\appdata\\local\\programs\\python\\python37\\lib\\site-packages\\ipykernel_launcher.py:4: SettingWithCopyWarning: \n",
      "A value is trying to be set on a copy of a slice from a DataFrame.\n",
      "Try using .loc[row_indexer,col_indexer] = value instead\n",
      "\n",
      "See the caveats in the documentation: http://pandas.pydata.org/pandas-docs/stable/user_guide/indexing.html#returning-a-view-versus-a-copy\n",
      "  after removing the cwd from sys.path.\n"
     ]
    }
   ],
   "source": [
    "for uk in [uk1,uk2,uk3]:\n",
    "    uk['IELTS']=uk['IELTS'].str.extract(r'(\\d+\\.?\\d*)')\n",
    "    uk['GMAT']=uk['GMAT'].str.extract(r'(\\d+)')\n",
    "    uk['本科GPA及排名']=uk['本科GPA及排名'].str.extract(\"(\\d+\\.?\\d*)\")"
   ]
  },
  {
   "cell_type": "markdown",
   "metadata": {},
   "source": [
    "IELTS匹配很好，GMAT需要去除极端值，GPA则需要后处理(包含绩点表达形式)"
   ]
  },
  {
   "cell_type": "code",
   "execution_count": 136,
   "metadata": {
    "scrolled": true
   },
   "outputs": [
    {
     "data": {
      "text/html": [
       "<div>\n",
       "<style scoped>\n",
       "    .dataframe tbody tr th:only-of-type {\n",
       "        vertical-align: middle;\n",
       "    }\n",
       "\n",
       "    .dataframe tbody tr th {\n",
       "        vertical-align: top;\n",
       "    }\n",
       "\n",
       "    .dataframe thead th {\n",
       "        text-align: right;\n",
       "    }\n",
       "</style>\n",
       "<table border=\"1\" class=\"dataframe\">\n",
       "  <thead>\n",
       "    <tr style=\"text-align: right;\">\n",
       "      <th></th>\n",
       "      <th>id</th>\n",
       "      <th>IELTS</th>\n",
       "      <th>GMAT</th>\n",
       "      <th>本科学校档次</th>\n",
       "      <th>本科专业</th>\n",
       "      <th>本科GPA及排名</th>\n",
       "      <th>其他说明</th>\n",
       "      <th>申请学校</th>\n",
       "      <th>申请学位</th>\n",
       "      <th>申请专业</th>\n",
       "      <th>申请结果</th>\n",
       "      <th>入学年度</th>\n",
       "      <th>入学时间</th>\n",
       "      <th>通知时间</th>\n",
       "    </tr>\n",
       "  </thead>\n",
       "  <tbody>\n",
       "    <tr>\n",
       "      <td>0</td>\n",
       "      <td>2147059</td>\n",
       "      <td>7.5</td>\n",
       "      <td>50</td>\n",
       "      <td>211</td>\n",
       "      <td>广播电视新闻学</td>\n",
       "      <td>89</td>\n",
       "      <td>4份实习 每年都有奖学金 实践活动较多</td>\n",
       "      <td>University of Edinburgh</td>\n",
       "      <td>MS</td>\n",
       "      <td>Marketing</td>\n",
       "      <td>offer</td>\n",
       "      <td>2018</td>\n",
       "      <td>Fall</td>\n",
       "      <td>2017-11-08</td>\n",
       "    </tr>\n",
       "    <tr>\n",
       "      <td>11</td>\n",
       "      <td>2148576</td>\n",
       "      <td>7</td>\n",
       "      <td>NaN</td>\n",
       "      <td>211</td>\n",
       "      <td>NaN</td>\n",
       "      <td>NaN</td>\n",
       "      <td>NaN</td>\n",
       "      <td>Kings College London</td>\n",
       "      <td>MS</td>\n",
       "      <td>finance (corporate finance)</td>\n",
       "      <td>offer</td>\n",
       "      <td>2018</td>\n",
       "      <td>Fall</td>\n",
       "      <td>2017-12-12</td>\n",
       "    </tr>\n",
       "    <tr>\n",
       "      <td>13</td>\n",
       "      <td>2148817</td>\n",
       "      <td>7.5</td>\n",
       "      <td>NaN</td>\n",
       "      <td>双非</td>\n",
       "      <td>NaN</td>\n",
       "      <td>3.66</td>\n",
       "      <td>在香港工作五年。。。纯属停下脚步思考人生的选择。。。</td>\n",
       "      <td>Durham University</td>\n",
       "      <td>MS</td>\n",
       "      <td>International Business Management</td>\n",
       "      <td>offer</td>\n",
       "      <td>2018</td>\n",
       "      <td>Fall</td>\n",
       "      <td>2017-11-07</td>\n",
       "    </tr>\n",
       "    <tr>\n",
       "      <td>14</td>\n",
       "      <td>2148865</td>\n",
       "      <td>NaN</td>\n",
       "      <td>NaN</td>\n",
       "      <td>211</td>\n",
       "      <td>金融</td>\n",
       "      <td>NaN</td>\n",
       "      <td>NaN</td>\n",
       "      <td>Kings College London</td>\n",
       "      <td>MS</td>\n",
       "      <td>Finance</td>\n",
       "      <td>offer</td>\n",
       "      <td>2018</td>\n",
       "      <td>Fall</td>\n",
       "      <td>2017-12-01</td>\n",
       "    </tr>\n",
       "    <tr>\n",
       "      <td>16</td>\n",
       "      <td>2149005</td>\n",
       "      <td>7</td>\n",
       "      <td>NaN</td>\n",
       "      <td>双非</td>\n",
       "      <td>人力资源管理</td>\n",
       "      <td>NaN</td>\n",
       "      <td>NaN</td>\n",
       "      <td>University of Birmingham</td>\n",
       "      <td>MS</td>\n",
       "      <td>financial management</td>\n",
       "      <td>offer</td>\n",
       "      <td>2018</td>\n",
       "      <td>Fall</td>\n",
       "      <td>2017-12-14</td>\n",
       "    </tr>\n",
       "  </tbody>\n",
       "</table>\n",
       "</div>"
      ],
      "text/plain": [
       "         id IELTS GMAT 本科学校档次     本科专业 本科GPA及排名                        其他说明  \\\n",
       "0   2147059   7.5   50    211  广播电视新闻学       89         4份实习 每年都有奖学金 实践活动较多   \n",
       "11  2148576     7  NaN    211      NaN      NaN                         NaN   \n",
       "13  2148817   7.5  NaN     双非      NaN     3.66  在香港工作五年。。。纯属停下脚步思考人生的选择。。。   \n",
       "14  2148865   NaN  NaN    211       金融      NaN                         NaN   \n",
       "16  2149005     7  NaN     双非   人力资源管理      NaN                         NaN   \n",
       "\n",
       "                        申请学校 申请学位                               申请专业   申请结果  \\\n",
       "0    University of Edinburgh   MS                          Marketing  offer   \n",
       "11      Kings College London   MS        finance (corporate finance)  offer   \n",
       "13         Durham University   MS  International Business Management  offer   \n",
       "14      Kings College London   MS                            Finance  offer   \n",
       "16  University of Birmingham   MS               financial management  offer   \n",
       "\n",
       "    入学年度  入学时间        通知时间  \n",
       "0   2018  Fall  2017-11-08  \n",
       "11  2018  Fall  2017-12-12  \n",
       "13  2018  Fall  2017-11-07  \n",
       "14  2018  Fall  2017-12-01  \n",
       "16  2018  Fall  2017-12-14  "
      ]
     },
     "execution_count": 136,
     "metadata": {},
     "output_type": "execute_result"
    }
   ],
   "source": [
    "uk1.head()"
   ]
  },
  {
   "cell_type": "markdown",
   "metadata": {},
   "source": [
    "8.3.提取主干信息"
   ]
  },
  {
   "cell_type": "code",
   "execution_count": 137,
   "metadata": {},
   "outputs": [
    {
     "data": {
      "text/html": [
       "<div>\n",
       "<style scoped>\n",
       "    .dataframe tbody tr th:only-of-type {\n",
       "        vertical-align: middle;\n",
       "    }\n",
       "\n",
       "    .dataframe tbody tr th {\n",
       "        vertical-align: top;\n",
       "    }\n",
       "\n",
       "    .dataframe thead th {\n",
       "        text-align: right;\n",
       "    }\n",
       "</style>\n",
       "<table border=\"1\" class=\"dataframe\">\n",
       "  <thead>\n",
       "    <tr style=\"text-align: right;\">\n",
       "      <th></th>\n",
       "      <th>IELTS</th>\n",
       "      <th>GMAT</th>\n",
       "      <th>本科GPA及排名</th>\n",
       "      <th>本科学校档次</th>\n",
       "      <th>申请学校</th>\n",
       "    </tr>\n",
       "  </thead>\n",
       "  <tbody>\n",
       "    <tr>\n",
       "      <td>0</td>\n",
       "      <td>7</td>\n",
       "      <td>660</td>\n",
       "      <td>NaN</td>\n",
       "      <td>上海大学</td>\n",
       "      <td>Durham University</td>\n",
       "    </tr>\n",
       "    <tr>\n",
       "      <td>1</td>\n",
       "      <td>6.5</td>\n",
       "      <td>NaN</td>\n",
       "      <td>NaN</td>\n",
       "      <td>985</td>\n",
       "      <td>利兹大学</td>\n",
       "    </tr>\n",
       "    <tr>\n",
       "      <td>2</td>\n",
       "      <td>6</td>\n",
       "      <td>NaN</td>\n",
       "      <td>83.84</td>\n",
       "      <td>台湾本科</td>\n",
       "      <td>The University of Nottingham 诺丁汉大学</td>\n",
       "    </tr>\n",
       "    <tr>\n",
       "      <td>3</td>\n",
       "      <td>6</td>\n",
       "      <td>NaN</td>\n",
       "      <td>3.47</td>\n",
       "      <td>双非</td>\n",
       "      <td>University of Birmingham 伯明翰大学</td>\n",
       "    </tr>\n",
       "    <tr>\n",
       "      <td>4</td>\n",
       "      <td>NaN</td>\n",
       "      <td>NaN</td>\n",
       "      <td>86</td>\n",
       "      <td>双非</td>\n",
       "      <td>University of Edinburgh</td>\n",
       "    </tr>\n",
       "  </tbody>\n",
       "</table>\n",
       "</div>"
      ],
      "text/plain": [
       "  IELTS GMAT 本科GPA及排名 本科学校档次                                申请学校\n",
       "0     7  660      NaN   上海大学                   Durham University\n",
       "1   6.5  NaN      NaN    985                                利兹大学\n",
       "2     6  NaN    83.84   台湾本科  The University of Nottingham 诺丁汉大学\n",
       "3     6  NaN     3.47     双非      University of Birmingham 伯明翰大学\n",
       "4   NaN  NaN       86     双非             University of Edinburgh"
      ]
     },
     "execution_count": 137,
     "metadata": {},
     "output_type": "execute_result"
    }
   ],
   "source": [
    "uk1=uk1[['IELTS','GMAT','本科GPA及排名','本科学校档次','申请学校']].reset_index(drop=True)\n",
    "uk2=uk2[['IELTS','GMAT','本科GPA及排名','本科学校档次','申请学校']].reset_index(drop=True)\n",
    "uk3=uk3[['IELTS','GMAT','本科GPA及排名','本科学校档次','申请学校']].reset_index(drop=True)\n",
    "uk2.head()"
   ]
  },
  {
   "cell_type": "markdown",
   "metadata": {},
   "source": [
    "8.4.数据清洗 由于数据数目较少，故将极端值处理为缺失值"
   ]
  },
  {
   "cell_type": "code",
   "execution_count": 138,
   "metadata": {
    "scrolled": true
   },
   "outputs": [
    {
     "data": {
      "text/plain": [
       "{'6': Int64Index([2, 3, 8, 18, 24, 33, 52, 53], dtype='int64'),\n",
       " '6.5': Int64Index([1, 17, 28, 34, 40, 45, 51, 54, 57, 60, 65, 66, 67, 68, 75, 77, 82], dtype='int64'),\n",
       " '7': Int64Index([0, 6, 10, 13, 20, 22, 23, 26, 32, 37, 39, 44, 50, 59, 62, 63, 71,\n",
       "             73, 78, 79],\n",
       "            dtype='int64'),\n",
       " '7.5': Int64Index([15, 16, 25, 27, 29, 38, 43, 56, 58, 64, 72, 74], dtype='int64'),\n",
       " '8': Int64Index([36], dtype='int64'),\n",
       " '8.0': Int64Index([35], dtype='int64')}"
      ]
     },
     "execution_count": 138,
     "metadata": {},
     "output_type": "execute_result"
    }
   ],
   "source": [
    "uk2.groupby('GMAT').groups  #92为极端值应去除\n",
    "uk2.groupby('本科GPA及排名').groups\n",
    "uk2.groupby('IELTS').groups"
   ]
  },
  {
   "cell_type": "code",
   "execution_count": 139,
   "metadata": {},
   "outputs": [
    {
     "data": {
      "text/plain": [
       "{'5.5': Int64Index([8], dtype='int64'),\n",
       " '6.5': Int64Index([5, 12, 13, 16], dtype='int64'),\n",
       " '7': Int64Index([1, 4, 7, 11, 15], dtype='int64'),\n",
       " '7.5': Int64Index([0, 2, 6], dtype='int64'),\n",
       " '8.5': Int64Index([14], dtype='int64')}"
      ]
     },
     "execution_count": 139,
     "metadata": {},
     "output_type": "execute_result"
    }
   ],
   "source": [
    "uk1.groupby('GMAT').groups #50为极端值应去除\n",
    "uk1.groupby('本科GPA及排名').groups\n",
    "uk1.groupby('IELTS').groups"
   ]
  },
  {
   "cell_type": "code",
   "execution_count": 140,
   "metadata": {},
   "outputs": [
    {
     "data": {
      "text/plain": [
       "{'6': Int64Index([6], dtype='int64'),\n",
       " '6.5': Int64Index([2, 3, 4, 7, 12, 16], dtype='int64'),\n",
       " '7': Int64Index([0, 1, 5, 8, 9, 10, 13, 14, 15, 20], dtype='int64'),\n",
       " '7.5': Int64Index([17], dtype='int64')}"
      ]
     },
     "execution_count": 140,
     "metadata": {},
     "output_type": "execute_result"
    }
   ],
   "source": [
    "uk3.groupby('GMAT').groups  #89异常值\n",
    "uk3.groupby('本科GPA及排名').groups\n",
    "uk3.groupby('IELTS').groups"
   ]
  },
  {
   "cell_type": "code",
   "execution_count": 141,
   "metadata": {},
   "outputs": [],
   "source": [
    "uk1.loc[0,'GMAT']=np.nan\n",
    "uk2.loc[29,'GMAT']=np.nan\n",
    "uk3.loc[20,'GMAT']=np.nan"
   ]
  },
  {
   "cell_type": "markdown",
   "metadata": {},
   "source": [
    "对绩点形式改变为百分数形式，一般满绩为4，粗略计算：绩点/4*100"
   ]
  },
  {
   "cell_type": "code",
   "execution_count": 142,
   "metadata": {},
   "outputs": [
    {
     "data": {
      "text/plain": [
       "本科GPA及排名\n",
       "83.75    1\n",
       "85.0     1\n",
       "87.5     2\n",
       "88.5     1\n",
       "90.0     1\n",
       "92.5     1\n",
       "93.5     1\n",
       "95.0     1\n",
       "71       1\n",
       "79.08    1\n",
       "86       1\n",
       "86.88    1\n",
       "88       1\n",
       "dtype: int64"
      ]
     },
     "execution_count": 142,
     "metadata": {},
     "output_type": "execute_result"
    }
   ],
   "source": [
    "index3=uk3[((uk3['本科GPA及排名']).astype(float)<5) & ((uk3['本科GPA及排名']).astype(float)>1.5)]['本科GPA及排名'].index\n",
    "gpa3=((uk3[((uk3['本科GPA及排名']).astype(float)<5) & ((uk3['本科GPA及排名']).astype(float)>1.5)]['本科GPA及排名']).astype(float)*25).copy()\n",
    "for i in index3:\n",
    "    uk3.loc[i,'本科GPA及排名']=gpa3[i]\n",
    "uk3.groupby('本科GPA及排名').size()\n",
    "#数据类型转换后才能计算 用别的方法一直报错 最后只能用循环解决"
   ]
  },
  {
   "cell_type": "code",
   "execution_count": 143,
   "metadata": {},
   "outputs": [],
   "source": [
    "index2=uk2[((uk2['本科GPA及排名']).astype(float)<5) & ((uk2['本科GPA及排名']).astype(float)>1.5)]['本科GPA及排名'].index\n",
    "gpa2=((uk2[((uk2['本科GPA及排名']).astype(float)<5) & ((uk2['本科GPA及排名']).astype(float)>1.5)]['本科GPA及排名']).astype(float)*25).copy()\n",
    "for i in index2:\n",
    "    uk2.loc[i,'本科GPA及排名']=gpa2[i]\n",
    "\n",
    "index1=uk1[((uk1['本科GPA及排名']).astype(float)<5) & ((uk1['本科GPA及排名']).astype(float)>1.5)]['本科GPA及排名'].index\n",
    "gpa1=((uk1[((uk1['本科GPA及排名']).astype(float)<5) & ((uk1['本科GPA及排名']).astype(float)>1.5)]['本科GPA及排名']).astype(float)*25).copy()\n",
    "for i in index1:\n",
    "    uk1.loc[i,'本科GPA及排名']=gpa1[i]"
   ]
  },
  {
   "cell_type": "markdown",
   "metadata": {},
   "source": [
    "8.5.数据清洗 改变数据类型"
   ]
  },
  {
   "cell_type": "markdown",
   "metadata": {},
   "source": [
    "标化成绩保守估计 缺失值用入学平均要求来填充"
   ]
  },
  {
   "cell_type": "markdown",
   "metadata": {},
   "source": [
    "IELTS 6.5 GMAT 650 GPA 85"
   ]
  },
  {
   "cell_type": "code",
   "execution_count": 144,
   "metadata": {},
   "outputs": [],
   "source": [
    "uk1['IELTS']=uk1['IELTS'].fillna(6.5)\n",
    "uk2['IELTS']=uk2['IELTS'].fillna(6.5)\n",
    "uk3['IELTS']=uk3['IELTS'].fillna(6.5)\n",
    "uk1['GMAT']=uk1['GMAT'].fillna(650)\n",
    "uk2['GMAT']=uk2['GMAT'].fillna(650)\n",
    "uk3['GMAT']=uk3['GMAT'].fillna(650)\n",
    "uk1['本科GPA及排名']=uk1['本科GPA及排名'].fillna(86.73)\n",
    "uk2['本科GPA及排名']=uk2['本科GPA及排名'].fillna(86.73)\n",
    "uk3['本科GPA及排名']=uk3['本科GPA及排名'].fillna(86.73)"
   ]
  },
  {
   "cell_type": "code",
   "execution_count": 145,
   "metadata": {},
   "outputs": [],
   "source": [
    "list1=[uk1['IELTS'].astype(float).mean(),uk2['IELTS'].astype(float).mean(),uk3['IELTS'].astype(float).mean()]\n",
    "list2=[uk1['GMAT'].astype(float).mean(),uk2['GMAT'].astype(float).mean(),uk3['GMAT'].astype(float).mean()]\n",
    "list3=[uk1['本科GPA及排名'].astype(float).mean(),uk3['本科GPA及排名'].astype(float).mean(),uk2['本科GPA及排名'].astype(float).mean()]"
   ]
  },
  {
   "cell_type": "code",
   "execution_count": 146,
   "metadata": {},
   "outputs": [],
   "source": [
    "sum1=pd.DataFrame({'2018':[list1[0],list2[0],list3[0]],'2019':[list1[1],list2[1],list3[1]],'2020':[list1[2],list2[2],list3[2]]},index=['IELTS','GMAT','本科GPA及排名'])"
   ]
  },
  {
   "cell_type": "code",
   "execution_count": 147,
   "metadata": {
    "scrolled": true
   },
   "outputs": [
    {
     "data": {
      "text/html": [
       "<div>\n",
       "<style scoped>\n",
       "    .dataframe tbody tr th:only-of-type {\n",
       "        vertical-align: middle;\n",
       "    }\n",
       "\n",
       "    .dataframe tbody tr th {\n",
       "        vertical-align: top;\n",
       "    }\n",
       "\n",
       "    .dataframe thead th {\n",
       "        text-align: right;\n",
       "    }\n",
       "</style>\n",
       "<table border=\"1\" class=\"dataframe\">\n",
       "  <thead>\n",
       "    <tr style=\"text-align: right;\">\n",
       "      <th></th>\n",
       "      <th>2018</th>\n",
       "      <th>2019</th>\n",
       "      <th>2020</th>\n",
       "    </tr>\n",
       "  </thead>\n",
       "  <tbody>\n",
       "    <tr>\n",
       "      <td>IELTS</td>\n",
       "      <td>6.861111</td>\n",
       "      <td>6.753012</td>\n",
       "      <td>6.761905</td>\n",
       "    </tr>\n",
       "    <tr>\n",
       "      <td>GMAT</td>\n",
       "      <td>650.000000</td>\n",
       "      <td>652.530120</td>\n",
       "      <td>650.952381</td>\n",
       "    </tr>\n",
       "    <tr>\n",
       "      <td>本科GPA及排名</td>\n",
       "      <td>87.842222</td>\n",
       "      <td>86.729524</td>\n",
       "      <td>88.012048</td>\n",
       "    </tr>\n",
       "  </tbody>\n",
       "</table>\n",
       "</div>"
      ],
      "text/plain": [
       "                2018        2019        2020\n",
       "IELTS       6.861111    6.753012    6.761905\n",
       "GMAT      650.000000  652.530120  650.952381\n",
       "本科GPA及排名   87.842222   86.729524   88.012048"
      ]
     },
     "execution_count": 147,
     "metadata": {},
     "output_type": "execute_result"
    }
   ],
   "source": [
    "sum1"
   ]
  },
  {
   "cell_type": "markdown",
   "metadata": {},
   "source": [
    "如上所示，与去年同期相较，录取GMAT成绩无明显影响变化，成功申请者的IELTS和GPA都有明显增幅，表明新政落地，同期竞争压力变大。"
   ]
  },
  {
   "cell_type": "markdown",
   "metadata": {},
   "source": [
    "#### 录取偏好学校档次大致观察"
   ]
  },
  {
   "cell_type": "code",
   "execution_count": 149,
   "metadata": {},
   "outputs": [
    {
     "data": {
      "text/plain": [
       "本科学校档次\n",
       "211          6\n",
       "211 & 985    1\n",
       "上海财经大学       1\n",
       "双非           7\n",
       "大连理工大学       1\n",
       "dtype: int64"
      ]
     },
     "execution_count": 149,
     "metadata": {},
     "output_type": "execute_result"
    }
   ],
   "source": [
    "uk1.groupby(['本科学校档次']).size()\n",
    "uk2.groupby(['本科学校档次']).size()\n",
    "uk1.groupby(['本科学校档次']).size()"
   ]
  },
  {
   "cell_type": "code",
   "execution_count": 150,
   "metadata": {},
   "outputs": [
    {
     "data": {
      "text/plain": [
       "{(211, '89'): Int64Index([0], dtype='int64'),\n",
       " (211, 86.73): Int64Index([1, 3, 8, 13], dtype='int64'),\n",
       " ('双非', 91.5): Int64Index([2], dtype='int64'),\n",
       " ('双非', 86.73): Int64Index([4, 6, 11], dtype='int64'),\n",
       " ('双非', 91.0): Int64Index([5], dtype='int64'),\n",
       " ('大连理工大学', 86.73): Int64Index([7], dtype='int64'),\n",
       " (nan, 86.73): Int64Index([9, 17], dtype='int64'),\n",
       " ('211 & 985', '83.4'): Int64Index([10], dtype='int64'),\n",
       " ('双非', '90.13'): Int64Index([12], dtype='int64'),\n",
       " (211, 94.5): Int64Index([14], dtype='int64'),\n",
       " ('上海财经大学', 86.73): Int64Index([15], dtype='int64'),\n",
       " ('双非', '87.6'): Int64Index([16], dtype='int64')}"
      ]
     },
     "execution_count": 150,
     "metadata": {},
     "output_type": "execute_result"
    }
   ],
   "source": [
    "uk1.groupby(['本科学校档次','本科GPA及排名']).groups"
   ]
  },
  {
   "cell_type": "code",
   "execution_count": 151,
   "metadata": {},
   "outputs": [],
   "source": [
    "dic1={'211':7,'985或国外相同级别高校':2,'双非':7}\n",
    "dic2={'211':29,'985或国外相同级别高校':24,'双非':21}\n",
    "dic3={'211':6,'985或国外相同级别高校':10,'双非':4}"
   ]
  },
  {
   "cell_type": "code",
   "execution_count": 152,
   "metadata": {},
   "outputs": [
    {
     "data": {
      "text/html": [
       "<div>\n",
       "<style scoped>\n",
       "    .dataframe tbody tr th:only-of-type {\n",
       "        vertical-align: middle;\n",
       "    }\n",
       "\n",
       "    .dataframe tbody tr th {\n",
       "        vertical-align: top;\n",
       "    }\n",
       "\n",
       "    .dataframe thead th {\n",
       "        text-align: right;\n",
       "    }\n",
       "</style>\n",
       "<table border=\"1\" class=\"dataframe\">\n",
       "  <thead>\n",
       "    <tr style=\"text-align: right;\">\n",
       "      <th></th>\n",
       "      <th>2018</th>\n",
       "      <th>2019</th>\n",
       "      <th>2020</th>\n",
       "    </tr>\n",
       "  </thead>\n",
       "  <tbody>\n",
       "    <tr>\n",
       "      <td>211</td>\n",
       "      <td>7</td>\n",
       "      <td>29</td>\n",
       "      <td>6</td>\n",
       "    </tr>\n",
       "    <tr>\n",
       "      <td>985或国外相同级别高校</td>\n",
       "      <td>2</td>\n",
       "      <td>24</td>\n",
       "      <td>10</td>\n",
       "    </tr>\n",
       "    <tr>\n",
       "      <td>双非</td>\n",
       "      <td>7</td>\n",
       "      <td>21</td>\n",
       "      <td>4</td>\n",
       "    </tr>\n",
       "  </tbody>\n",
       "</table>\n",
       "</div>"
      ],
      "text/plain": [
       "              2018  2019  2020\n",
       "211              7    29     6\n",
       "985或国外相同级别高校     2    24    10\n",
       "双非               7    21     4"
      ]
     },
     "execution_count": 152,
     "metadata": {},
     "output_type": "execute_result"
    }
   ],
   "source": [
    "school=pd.DataFrame({'2018':dic1,'2019':dic2,'2020':dic3},index=['211','985或国外相同级别高校','双非'])\n",
    "school"
   ]
  },
  {
   "cell_type": "code",
   "execution_count": 154,
   "metadata": {},
   "outputs": [
    {
     "data": {
      "text/html": [
       "<div>\n",
       "<style scoped>\n",
       "    .dataframe tbody tr th:only-of-type {\n",
       "        vertical-align: middle;\n",
       "    }\n",
       "\n",
       "    .dataframe tbody tr th {\n",
       "        vertical-align: top;\n",
       "    }\n",
       "\n",
       "    .dataframe thead th {\n",
       "        text-align: right;\n",
       "    }\n",
       "</style>\n",
       "<table border=\"1\" class=\"dataframe\">\n",
       "  <thead>\n",
       "    <tr style=\"text-align: right;\">\n",
       "      <th></th>\n",
       "      <th>2018</th>\n",
       "      <th>2019</th>\n",
       "      <th>2020</th>\n",
       "    </tr>\n",
       "  </thead>\n",
       "  <tbody>\n",
       "    <tr>\n",
       "      <td>211</td>\n",
       "      <td>0.4375</td>\n",
       "      <td>0.391892</td>\n",
       "      <td>0.3</td>\n",
       "    </tr>\n",
       "    <tr>\n",
       "      <td>985或国外相同级别高校</td>\n",
       "      <td>0.1250</td>\n",
       "      <td>0.324324</td>\n",
       "      <td>0.5</td>\n",
       "    </tr>\n",
       "    <tr>\n",
       "      <td>双非</td>\n",
       "      <td>0.4375</td>\n",
       "      <td>0.283784</td>\n",
       "      <td>0.2</td>\n",
       "    </tr>\n",
       "  </tbody>\n",
       "</table>\n",
       "</div>"
      ],
      "text/plain": [
       "                2018      2019  2020\n",
       "211           0.4375  0.391892   0.3\n",
       "985或国外相同级别高校  0.1250  0.324324   0.5\n",
       "双非            0.4375  0.283784   0.2"
      ]
     },
     "execution_count": 154,
     "metadata": {},
     "output_type": "execute_result"
    }
   ],
   "source": [
    "sum2=pd.DataFrame({'2018':[16,16,16],'2019':[74,74,74],'2020':[20,20,20]},index=['211','985或国外相同级别高校','双非'])\n",
    "div3=school.div(sum2)\n",
    "div3"
   ]
  },
  {
   "cell_type": "code",
   "execution_count": 155,
   "metadata": {},
   "outputs": [
    {
     "data": {
      "image/png": "[encoded data removed]",
      "text/plain": [
       "<Figure size 1296x864 with 3 Axes>"
      ]
     },
     "metadata": {},
     "output_type": "display_data"
    }
   ],
   "source": [
    "plt.figure(figsize=(18,12))\n",
    "ax1=plt.subplot(221)\n",
    "ax1.set_title('2018')\n",
    "div3['2018'].plot.pie()\n",
    "\n",
    "ax2=plt.subplot(222)\n",
    "ax2.set_title('2019')\n",
    "div3['2019'].plot.pie()\n",
    "\n",
    "ax3=plt.subplot(212)\n",
    "ax3.set_title('GPA')\n",
    "div3['2020'].plot.pie()\n",
    "\n",
    "plt.show()"
   ]
  },
  {
   "cell_type": "markdown",
   "metadata": {},
   "source": [
    "### 研究结论"
   ]
  },
  {
   "cell_type": "markdown",
   "metadata": {},
   "source": [
    "1.从申请总数据：1)五个地区 2)三年同期 进行总体分析,经过统计显著性假设检验，从申请率和失败率两个角度进行分析，受样本容量限制，申请率和失败率的变动不是特别明显。"
   ]
  },
  {
   "cell_type": "markdown",
   "metadata": {},
   "source": [
    "2.以澳洲和新加坡作为基准参考，发现英国、香港同期的申请率呈现较大的幅度变动，与英国留学政策的转变和香港的社会安全有关。"
   ]
  },
  {
   "cell_type": "markdown",
   "metadata": {},
   "source": [
    "3.从标化成绩IELTS\\GRE\\GMAT\\GPA等定量分析，在英国留学政策放宽的情况下，留学申请竞争压力大大增加，对标化成绩的录取门槛逐渐提高。"
   ]
  },
  {
   "cell_type": "markdown",
   "metadata": {},
   "source": [
    "4.从商科相近专业的大类录取信息分析，成功申请者中的院校层次有较大改变，逐渐偏向985及国外相等层级的高校，211及双非学校逐渐处于申请劣势。"
   ]
  },
  {
   "cell_type": "markdown",
   "metadata": {},
   "source": [
    "### 研究不足之处"
   ]
  },
  {
   "cell_type": "markdown",
   "metadata": {},
   "source": [
    "1.论坛本身的申请者更偏向于投稿自己的成功申请结果，因此爬虫得到的被拒结果相对较少，可能对研究结果造成了总体影响。"
   ]
  },
  {
   "cell_type": "markdown",
   "metadata": {},
   "source": [
    "2.研究后发现申请者提供的是通知时间而非申请时间，故具体研究留学政策对时间段的影响，应当研究申请时间而非通知时间，这是研究存在的另一个系统缺陷，可能会造成较大误差。"
   ]
  },
  {
   "cell_type": "markdown",
   "metadata": {},
   "source": [
    "3.受申请和录取周期的影响，同期时间段美国的录取数较少，故没有纳入具体研究的范围内，造成了一定的研究局限。"
   ]
  },
  {
   "cell_type": "markdown",
   "metadata": {},
   "source": [
    "4.在研究过程中，主要提取了标化成绩的内容，由于个人说明中科研论文\\实习等表达形式极度复杂，没有找到合适的提取方法，后续可能会继续优化，尝试提取，我本身更想要做一个预测模型，但是没有能够成功实现。"
   ]
  },
  {
   "cell_type": "markdown",
   "metadata": {},
   "source": [
    "5.在本次信息提取中，采取的是dataframe中id中对应连接两部分的爬取信息，虽然最终成功实现了但是有些繁琐，我想要尝试用数据库等的方法进行键值连接，或许会更卓有成效。"
   ]
  }
 ],
 "metadata": {
  "kernelspec": {
   "display_name": "Python 3",
   "language": "python",
   "name": "python3"
  },
  "language_info": {
   "codemirror_mode": {
    "name": "ipython",
    "version": 3
   },
   "file_extension": ".py",
   "mimetype": "text/x-python",
   "name": "python",
   "nbconvert_exporter": "python",
   "pygments_lexer": "ipython3",
   "version": "3.7.3"
  }
 },
 "nbformat": 4,
 "nbformat_minor": 2
}
